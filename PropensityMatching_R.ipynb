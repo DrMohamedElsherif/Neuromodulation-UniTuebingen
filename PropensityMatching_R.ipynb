{
 "cells": [
  {
   "cell_type": "code",
   "execution_count": 1,
   "id": "d42d79ab-1a98-4d39-84a0-9758e89a03eb",
   "metadata": {},
   "outputs": [],
   "source": [
    "# Suppress all warnings in the session\n",
    "options(warn = -1)"
   ]
  },
  {
   "cell_type": "code",
   "execution_count": 2,
   "id": "f7d1ff57-d725-4a32-abbe-7c5b73b0abb2",
   "metadata": {},
   "outputs": [
    {
     "name": "stdout",
     "output_type": "stream",
     "text": [
      "package 'MatchIt' successfully unpacked and MD5 sums checked\n",
      "package 'dplyr' successfully unpacked and MD5 sums checked\n"
     ]
    }
   ],
   "source": [
    "# Install packages quietly\n",
    "install.packages(\"MatchIt\", quiet = TRUE)\n",
    "install.packages(\"dplyr\", quiet = TRUE)"
   ]
  },
  {
   "cell_type": "code",
   "execution_count": 3,
   "id": "bdd260db-cddd-42a2-86ef-2cc331a3b656",
   "metadata": {},
   "outputs": [],
   "source": [
    "library(MatchIt)\n",
    "suppressPackageStartupMessages(library(dplyr))"
   ]
  },
  {
   "cell_type": "code",
   "execution_count": 4,
   "id": "c02918bd-4da6-4310-8c7e-aa59d03b6128",
   "metadata": {},
   "outputs": [],
   "source": [
    "MOCA_DemoPDDX_UPDRS_W_MatV_Only <- read.csv(\"MOCA_DemoPDDX_UPDRS_W_MatV_Only.csv\")\n",
    "OurPDDataforPM_W_MatV_Only_nandropped <- read.csv(\"OurPDDataforPM_W_MatV_Only_nandropped.csv\")"
   ]
  },
  {
   "cell_type": "code",
   "execution_count": 5,
   "id": "602c2540-50b6-4795-bb04-8e660bfec0f1",
   "metadata": {},
   "outputs": [
    {
     "data": {
      "text/plain": [
       "\n",
       "Call:\n",
       "matchit(formula = Label ~ NP3TOT + PDTIME.Years. + AgePDDX + \n",
       "    SEX + MCATOT, data = combined_data, method = \"nearest\", distance = \"logit\")\n",
       "\n",
       "Summary of Balance for All Data:\n",
       "              Means Treated Means Control Std. Mean Diff. Var. Ratio eCDF Mean\n",
       "distance             0.7572        0.0171          2.1653    25.3074    0.4816\n",
       "NP3TOT               1.5873       -0.1121          1.2576     2.4256    0.3038\n",
       "PDTIME.Years.        2.7770       -0.1961          2.1086     5.7014    0.6355\n",
       "AgePDDX             -0.5413        0.0382         -0.7658     0.5677    0.1585\n",
       "SEX                  0.7945        0.6132          0.4489          .    0.1814\n",
       "MCATOT              27.1918       26.6847          0.1723     1.1606    0.0349\n",
       "              eCDF Max\n",
       "distance        0.8864\n",
       "NP3TOT          0.6385\n",
       "PDTIME.Years.   0.8662\n",
       "AgePDDX         0.3490\n",
       "SEX             0.1814\n",
       "MCATOT          0.1334\n",
       "\n",
       "Summary of Balance for Matched Data:\n",
       "              Means Treated Means Control Std. Mean Diff. Var. Ratio eCDF Mean\n",
       "distance             0.7572        0.1832          1.6794     3.2828    0.0487\n",
       "NP3TOT               1.5873        0.6776          0.6732     1.3027    0.1635\n",
       "PDTIME.Years.        2.7770        1.2561          1.0787     3.3255    0.1871\n",
       "AgePDDX             -0.5413       -0.2310         -0.4100     0.5335    0.0977\n",
       "SEX                  0.7945        0.6027          0.4746          .    0.1918\n",
       "MCATOT              27.1918       26.5342          0.2235     0.7263    0.0346\n",
       "              eCDF Max Std. Pair Dist.\n",
       "distance        0.7397          1.6794\n",
       "NP3TOT          0.3562          1.1249\n",
       "PDTIME.Years.   0.6438          1.1482\n",
       "AgePDDX         0.2329          1.3491\n",
       "SEX             0.1918          0.8815\n",
       "MCATOT          0.1096          1.0522\n",
       "\n",
       "Sample Sizes:\n",
       "          Control Treated\n",
       "All          1034      73\n",
       "Matched        73      73\n",
       "Unmatched     961       0\n",
       "Discarded       0       0\n"
      ]
     },
     "metadata": {},
     "output_type": "display_data"
    },
    {
     "data": {
      "text/html": [
       "<table class=\"dataframe\">\n",
       "<caption>A matchdata: 6 × 9</caption>\n",
       "<thead>\n",
       "\t<tr><th></th><th scope=col>MCATOT</th><th scope=col>NP3TOT</th><th scope=col>PDTIME.Years.</th><th scope=col>AgePDDX</th><th scope=col>SEX</th><th scope=col>Label</th><th scope=col>distance</th><th scope=col>weights</th><th scope=col>subclass</th></tr>\n",
       "\t<tr><th></th><th scope=col>&lt;dbl&gt;</th><th scope=col>&lt;dbl[,1]&gt;</th><th scope=col>&lt;dbl[,1]&gt;</th><th scope=col>&lt;dbl[,1]&gt;</th><th scope=col>&lt;int&gt;</th><th scope=col>&lt;int&gt;</th><th scope=col>&lt;dbl&gt;</th><th scope=col>&lt;dbl&gt;</th><th scope=col>&lt;fct&gt;</th></tr>\n",
       "</thead>\n",
       "<tbody>\n",
       "\t<tr><th scope=row>1</th><td>28</td><td>0.4252576</td><td>1.142027</td><td>-1.5059698</td><td>1</td><td>1</td><td>0.1018299</td><td>1</td><td>1 </td></tr>\n",
       "\t<tr><th scope=row>2</th><td>28</td><td>4.0240793</td><td>1.858731</td><td> 0.1121135</td><td>1</td><td>1</td><td>0.9711914</td><td>1</td><td>12</td></tr>\n",
       "\t<tr><th scope=row>3</th><td>29</td><td>2.9101583</td><td>1.882685</td><td>-0.6361205</td><td>1</td><td>1</td><td>0.9190282</td><td>1</td><td>23</td></tr>\n",
       "\t<tr><th scope=row>4</th><td>27</td><td>0.6823163</td><td>2.946243</td><td> 0.2419092</td><td>1</td><td>1</td><td>0.9345418</td><td>1</td><td>34</td></tr>\n",
       "\t<tr><th scope=row>5</th><td>28</td><td>0.5966301</td><td>3.322799</td><td>-1.3262737</td><td>1</td><td>1</td><td>0.9538731</td><td>1</td><td>45</td></tr>\n",
       "\t<tr><th scope=row>6</th><td>29</td><td>1.1964337</td><td>4.769621</td><td>-0.4651501</td><td>1</td><td>1</td><td>0.9994182</td><td>1</td><td>56</td></tr>\n",
       "</tbody>\n",
       "</table>\n"
      ],
      "text/latex": [
       "A matchdata: 6 × 9\n",
       "\\begin{tabular}{r|lllllllll}\n",
       "  & MCATOT & NP3TOT & PDTIME.Years. & AgePDDX & SEX & Label & distance & weights & subclass\\\\\n",
       "  & <dbl> & <dbl{[},1{]}> & <dbl{[},1{]}> & <dbl{[},1{]}> & <int> & <int> & <dbl> & <dbl> & <fct>\\\\\n",
       "\\hline\n",
       "\t1 & 28 & 0.4252576 & 1.142027 & -1.5059698 & 1 & 1 & 0.1018299 & 1 & 1 \\\\\n",
       "\t2 & 28 & 4.0240793 & 1.858731 &  0.1121135 & 1 & 1 & 0.9711914 & 1 & 12\\\\\n",
       "\t3 & 29 & 2.9101583 & 1.882685 & -0.6361205 & 1 & 1 & 0.9190282 & 1 & 23\\\\\n",
       "\t4 & 27 & 0.6823163 & 2.946243 &  0.2419092 & 1 & 1 & 0.9345418 & 1 & 34\\\\\n",
       "\t5 & 28 & 0.5966301 & 3.322799 & -1.3262737 & 1 & 1 & 0.9538731 & 1 & 45\\\\\n",
       "\t6 & 29 & 1.1964337 & 4.769621 & -0.4651501 & 1 & 1 & 0.9994182 & 1 & 56\\\\\n",
       "\\end{tabular}\n"
      ],
      "text/markdown": [
       "\n",
       "A matchdata: 6 × 9\n",
       "\n",
       "| <!--/--> | MCATOT &lt;dbl&gt; | NP3TOT &lt;dbl[,1]&gt; | PDTIME.Years. &lt;dbl[,1]&gt; | AgePDDX &lt;dbl[,1]&gt; | SEX &lt;int&gt; | Label &lt;int&gt; | distance &lt;dbl&gt; | weights &lt;dbl&gt; | subclass &lt;fct&gt; |\n",
       "|---|---|---|---|---|---|---|---|---|---|\n",
       "| 1 | 28 | 0.4252576 | 1.142027 | -1.5059698 | 1 | 1 | 0.1018299 | 1 | 1  |\n",
       "| 2 | 28 | 4.0240793 | 1.858731 |  0.1121135 | 1 | 1 | 0.9711914 | 1 | 12 |\n",
       "| 3 | 29 | 2.9101583 | 1.882685 | -0.6361205 | 1 | 1 | 0.9190282 | 1 | 23 |\n",
       "| 4 | 27 | 0.6823163 | 2.946243 |  0.2419092 | 1 | 1 | 0.9345418 | 1 | 34 |\n",
       "| 5 | 28 | 0.5966301 | 3.322799 | -1.3262737 | 1 | 1 | 0.9538731 | 1 | 45 |\n",
       "| 6 | 29 | 1.1964337 | 4.769621 | -0.4651501 | 1 | 1 | 0.9994182 | 1 | 56 |\n",
       "\n"
      ],
      "text/plain": [
       "  MCATOT NP3TOT    PDTIME.Years. AgePDDX    SEX Label distance  weights\n",
       "1 28     0.4252576 1.142027      -1.5059698 1   1     0.1018299 1      \n",
       "2 28     4.0240793 1.858731       0.1121135 1   1     0.9711914 1      \n",
       "3 29     2.9101583 1.882685      -0.6361205 1   1     0.9190282 1      \n",
       "4 27     0.6823163 2.946243       0.2419092 1   1     0.9345418 1      \n",
       "5 28     0.5966301 3.322799      -1.3262737 1   1     0.9538731 1      \n",
       "6 29     1.1964337 4.769621      -0.4651501 1   1     0.9994182 1      \n",
       "  subclass\n",
       "1 1       \n",
       "2 12      \n",
       "3 23      \n",
       "4 34      \n",
       "5 45      \n",
       "6 56      "
      ]
     },
     "metadata": {},
     "output_type": "display_data"
    }
   ],
   "source": [
    "# Load necessary libraries\n",
    "library(MatchIt)\n",
    "\n",
    "# Combine the datasets\n",
    "combined_data <- rbind(OurPDDataforPM_W_MatV_Only_nandropped, MOCA_DemoPDDX_UPDRS_W_MatV_Only)\n",
    "\n",
    "# Identify continuous and categorical variables\n",
    "continuous_vars <- c('NP3TOT', 'PDTIME.Years.', 'AgePDDX')\n",
    "categorical_vars <- c('SEX', 'MCATOT')\n",
    "\n",
    "# Standardize the continuous variables\n",
    "combined_data[continuous_vars] <- lapply(combined_data[continuous_vars], scale)\n",
    "\n",
    "# Perform Propensity Score Matching\n",
    "matching_vars <- c('NP3TOT', 'PDTIME.Years.', 'AgePDDX', 'SEX', 'MCATOT')\n",
    "\n",
    "# Fit the propensity score model using logistic regression\n",
    "psm_model <- matchit(Label ~ NP3TOT + PDTIME.Years. + AgePDDX + SEX + MCATOT, \n",
    "                     data = combined_data, \n",
    "                     method = \"nearest\", \n",
    "                     distance = \"logit\")\n",
    "\n",
    "# Check the summary of the matching\n",
    "summary(psm_model)\n",
    "\n",
    "# Get the matched data\n",
    "matched_data <- match.data(psm_model)\n",
    "\n",
    "# View the matched data\n",
    "head(matched_data)"
   ]
  },
  {
   "cell_type": "code",
   "execution_count": 6,
   "id": "de680631-bbd3-4981-af9f-264241ff863a",
   "metadata": {},
   "outputs": [
    {
     "name": "stdout",
     "output_type": "stream",
     "text": [
      "[1] \"Means Before Matching\"\n",
      "     NP3TOT PDTIME.Years.    AgePDDX\n",
      "0 -0.112063    -0.1960544  0.0382147\n",
      "1  1.587304     2.7769895 -0.5412876\n",
      "[1] \"Means After Matching\"\n",
      "     NP3TOT PDTIME.Years.    AgePDDX\n",
      "0 0.6776211      1.256125 -0.2310394\n",
      "1 1.5873037      2.776989 -0.5412876\n"
     ]
    }
   ],
   "source": [
    "# Means before matching\n",
    "mean_before_matching <- sapply(continuous_vars, function(var) {\n",
    "  tapply(combined_data[[var]], combined_data$Label, mean, na.rm = TRUE)\n",
    "})\n",
    "print(\"Means Before Matching\")\n",
    "print(mean_before_matching)\n",
    "\n",
    "# Means after matching\n",
    "mean_after_matching <- sapply(continuous_vars, function(var) {\n",
    "  tapply(matched_data[[var]], matched_data$Label, mean, na.rm = TRUE)\n",
    "})\n",
    "print(\"Means After Matching\")\n",
    "print(mean_after_matching)"
   ]
  },
  {
   "cell_type": "markdown",
   "id": "7f312b26-b293-427d-a9c0-462f449a60ed",
   "metadata": {},
   "source": [
    "### Evaluating the effectiveness of the matching process"
   ]
  },
  {
   "cell_type": "markdown",
   "id": "26a22867-f768-4bf1-a69b-0850180c8a50",
   "metadata": {},
   "source": [
    "**1- Balance Check:** Ensures covariates are similar between groups.\n",
    "\n",
    "**2- Covariate Balance Tables:** Provides detailed balance statistics.\n",
    "\n",
    "**3- Matching Quality Metrics:** Assesses the quality and quantity of matched pairs.\n",
    "\n",
    "**4- Propensity Score Distribution:** Checks if propensity score distributions overlap.\n",
    "\n",
    "**5- Outcome Analysis:** Evaluates treatment effects using matched data.\n",
    "\n",
    "**6- Sensitivity Analysis:** Tests the robustness of results to unobserved confounding.\n",
    "\n",
    "**7- Propensity Score Overlap:** Ensures there is sufficient overlap in propensity scores between groups."
   ]
  },
  {
   "cell_type": "code",
   "execution_count": 7,
   "id": "688ce992-f7b5-49e6-a301-3a4b465b4326",
   "metadata": {},
   "outputs": [
    {
     "name": "stdout",
     "output_type": "stream",
     "text": [
      "\u001b[4mBalance Measures\u001b[24m\n",
      "                  Type Diff.Adj\n",
      "distance      Distance   1.6794\n",
      "NP3TOT         Contin.   0.6732\n",
      "PDTIME.Years.  Contin.   1.0787\n",
      "AgePDDX        Contin.  -0.4100\n",
      "SEX             Binary   0.1918\n",
      "MCATOT         Contin.   0.2235\n",
      "\n",
      "\u001b[4mSample sizes\u001b[24m\n",
      "          Control Treated\n",
      "All          1034      73\n",
      "Matched        73      73\n",
      "Unmatched     961       0\n"
     ]
    }
   ],
   "source": [
    "suppressPackageStartupMessages(library(cobalt))\n",
    "# 1- Balance Check Using Standardized Mean Differences:\n",
    "# Get balance table\n",
    "balance_table <- bal.tab(psm_model)\n",
    "print(balance_table)"
   ]
  },
  {
   "cell_type": "code",
   "execution_count": 8,
   "id": "b4ddd3aa-f3c1-46fb-a383-6b8f41d05155",
   "metadata": {},
   "outputs": [
    {
     "data": {
      "text/plain": [
       "\n",
       "Call:\n",
       "matchit(formula = Label ~ NP3TOT + PDTIME.Years. + AgePDDX + \n",
       "    SEX + MCATOT, data = combined_data, method = \"nearest\", distance = \"logit\")\n",
       "\n",
       "Summary of Balance for All Data:\n",
       "              Means Treated Means Control Std. Mean Diff. Var. Ratio eCDF Mean\n",
       "distance             0.7572        0.0171          2.1653    25.3074    0.4816\n",
       "NP3TOT               1.5873       -0.1121          1.2576     2.4256    0.3038\n",
       "PDTIME.Years.        2.7770       -0.1961          2.1086     5.7014    0.6355\n",
       "AgePDDX             -0.5413        0.0382         -0.7658     0.5677    0.1585\n",
       "SEX                  0.7945        0.6132          0.4489          .    0.1814\n",
       "MCATOT              27.1918       26.6847          0.1723     1.1606    0.0349\n",
       "              eCDF Max\n",
       "distance        0.8864\n",
       "NP3TOT          0.6385\n",
       "PDTIME.Years.   0.8662\n",
       "AgePDDX         0.3490\n",
       "SEX             0.1814\n",
       "MCATOT          0.1334\n",
       "\n",
       "Summary of Balance for Matched Data:\n",
       "              Means Treated Means Control Std. Mean Diff. Var. Ratio eCDF Mean\n",
       "distance             0.7572        0.1832          1.6794     3.2828    0.0487\n",
       "NP3TOT               1.5873        0.6776          0.6732     1.3027    0.1635\n",
       "PDTIME.Years.        2.7770        1.2561          1.0787     3.3255    0.1871\n",
       "AgePDDX             -0.5413       -0.2310         -0.4100     0.5335    0.0977\n",
       "SEX                  0.7945        0.6027          0.4746          .    0.1918\n",
       "MCATOT              27.1918       26.5342          0.2235     0.7263    0.0346\n",
       "              eCDF Max Std. Pair Dist.\n",
       "distance        0.7397          1.6794\n",
       "NP3TOT          0.3562          1.1249\n",
       "PDTIME.Years.   0.6438          1.1482\n",
       "AgePDDX         0.2329          1.3491\n",
       "SEX             0.1918          0.8815\n",
       "MCATOT          0.1096          1.0522\n",
       "\n",
       "Sample Sizes:\n",
       "          Control Treated\n",
       "All          1034      73\n",
       "Matched        73      73\n",
       "Unmatched     961       0\n",
       "Discarded       0       0\n"
      ]
     },
     "metadata": {},
     "output_type": "display_data"
    },
    {
     "data": {
      "image/png": "[encoded data removed]",
      "text/plain": [
       "plot without title"
      ]
     },
     "metadata": {
      "image/png": {
       "height": 420,
       "width": 420
      }
     },
     "output_type": "display_data"
    }
   ],
   "source": [
    "# 2- Covariate Balance Tables and Plot:\n",
    "summary(psm_model)\n",
    "# Create a Love plot for balance assessment\n",
    "love.plot(psm_model, threshold = 0.1)"
   ]
  },
  {
   "cell_type": "code",
   "execution_count": 9,
   "id": "c8687dba-6fb9-4450-8eb3-c42707af48d0",
   "metadata": {},
   "outputs": [
    {
     "name": "stdout",
     "output_type": "stream",
     "text": [
      "[1] 146\n"
     ]
    }
   ],
   "source": [
    "# 3- Matching Quality Metrics:\n",
    "# Evaluate the number of matched pairs\n",
    "matched_pairs <- sum(!is.na(matched_data$weights))\n",
    "print(matched_pairs)"
   ]
  },
  {
   "cell_type": "code",
   "execution_count": 10,
   "id": "011c8cd9-161b-4351-8917-8bcdf7bbbe94",
   "metadata": {},
   "outputs": [
    {
     "name": "stdout",
     "output_type": "stream",
     "text": [
      "To identify the units, use first mouse button; to stop, use second.\n"
     ]
    },
    {
     "data": {
      "image/png": "[encoded data removed]",
      "text/plain": [
       "Plot with title \"Distribution of Propensity Scores\""
      ]
     },
     "metadata": {
      "image/png": {
       "height": 420,
       "width": 420
      }
     },
     "output_type": "display_data"
    }
   ],
   "source": [
    "# 4- Balance plot for continuous variables\n",
    "plot(psm_model, type = \"jitter\")"
   ]
  },
  {
   "cell_type": "code",
   "execution_count": 11,
   "id": "cfd96393-6cbf-4b52-acc7-5bedfc70b197",
   "metadata": {},
   "outputs": [
    {
     "data": {
      "text/plain": [
       "\n",
       "Call:\n",
       "lm(formula = MCATOT ~ Label, data = matched_data)\n",
       "\n",
       "Residuals:\n",
       "     Min       1Q   Median       3Q      Max \n",
       "-13.5342  -1.1918   0.8082   1.8082   3.4658 \n",
       "\n",
       "Coefficients:\n",
       "            Estimate Std. Error t value Pr(>|t|)    \n",
       "(Intercept)  26.5342     0.3754  70.681   <2e-16 ***\n",
       "Label         0.6575     0.5309   1.239    0.218    \n",
       "---\n",
       "Signif. codes:  0 '***' 0.001 '**' 0.01 '*' 0.05 '.' 0.1 ' ' 1\n",
       "\n",
       "Residual standard error: 3.207 on 144 degrees of freedom\n",
       "Multiple R-squared:  0.01054,\tAdjusted R-squared:  0.003669 \n",
       "F-statistic: 1.534 on 1 and 144 DF,  p-value: 0.2175\n"
      ]
     },
     "metadata": {},
     "output_type": "display_data"
    }
   ],
   "source": [
    "# 5- Estimate treatment effect (outcome analysis)\n",
    "outcome_model <- lm(MCATOT ~ Label, data = matched_data)\n",
    "summary(outcome_model)"
   ]
  },
  {
   "cell_type": "markdown",
   "id": "453b82ab-75c9-4876-9098-2699904e54f4",
   "metadata": {},
   "source": [
    "### Assesing Propensity score Overlap using different methods"
   ]
  },
  {
   "cell_type": "code",
   "execution_count": 12,
   "id": "2e9f0ab8-e46a-4948-8330-97d368d2b7d9",
   "metadata": {},
   "outputs": [
    {
     "data": {
      "image/png": "[encoded data removed]",
      "text/plain": [
       "plot without title"
      ]
     },
     "metadata": {
      "image/png": {
       "height": 420,
       "width": 420
      }
     },
     "output_type": "display_data"
    }
   ],
   "source": [
    "library(ggplot2)\n",
    "# 7- Assess Propensity score Overlap\n",
    "\n",
    "# Get the propensity scores from the matching model\n",
    "ps_scores <- psm_model$distance\n",
    "\n",
    "# Add propensity scores to the combined_data for visualization\n",
    "combined_data$propensity_score <- ps_scores\n",
    "\n",
    "# Add treatment label for visualization\n",
    "combined_data$Label <- as.factor(combined_data$Label)\n",
    "\n",
    "# Plot the propensity score distributions for treatment and control groups\n",
    "ggplot(combined_data, aes(x = propensity_score, color = Label)) +\n",
    "  geom_density() +\n",
    "  labs(title = \"Density Plot of Propensity Scores\",\n",
    "       x = \"Propensity Score\",\n",
    "       y = \"Density\") +\n",
    "  theme_minimal()"
   ]
  },
  {
   "cell_type": "code",
   "execution_count": 13,
   "id": "76e51469-5a10-4e14-bcd9-cdd9146348f8",
   "metadata": {},
   "outputs": [
    {
     "name": "stdout",
     "output_type": "stream",
     "text": [
      "  Label propensity_score.mean propensity_score.sd propensity_score.min\n",
      "1     0          1.713833e-02        6.794420e-02         5.536646e-05\n",
      "2     1          7.572462e-01        3.418035e-01         1.647040e-03\n",
      "  propensity_score.max\n",
      "1         9.389386e-01\n",
      "2         9.999943e-01\n"
     ]
    }
   ],
   "source": [
    "# Summary statistics for propensity scores by treatment group\n",
    "summary_stats <- aggregate(propensity_score ~ Label, data = combined_data, function(x) c(mean = mean(x), sd = sd(x), min = min(x), max = max(x)))\n",
    "print(summary_stats)"
   ]
  },
  {
   "cell_type": "code",
   "execution_count": 14,
   "id": "fd12037e-3faa-4502-badc-ef09cf21e664",
   "metadata": {},
   "outputs": [
    {
     "name": "stdout",
     "output_type": "stream",
     "text": [
      "[1] \"Overlap proportion: 0.938843295635648\"\n"
     ]
    }
   ],
   "source": [
    "# Calculate overlap\n",
    "treatment_scores <- combined_data$propensity_score[combined_data$Label == 1]\n",
    "control_scores <- combined_data$propensity_score[combined_data$Label == 0]\n",
    "\n",
    "# Calculate ranges\n",
    "range_treatment <- range(treatment_scores)\n",
    "range_control <- range(control_scores)\n",
    "\n",
    "# Calculate overlap range\n",
    "overlap_min <- max(range_treatment[1], range_control[1])\n",
    "overlap_max <- min(range_treatment[2], range_control[2])\n",
    "\n",
    "# Proportion of overlap\n",
    "if (overlap_max > overlap_min) {\n",
    "  overlap_proportion <- (overlap_max - overlap_min) / (range_treatment[2] - range_treatment[1])\n",
    "} else {\n",
    "  overlap_proportion <- 0\n",
    "}\n",
    "\n",
    "print(paste(\"Overlap proportion:\", overlap_proportion))\n"
   ]
  },
  {
   "cell_type": "code",
   "execution_count": 15,
   "id": "39cdf405-6f50-40cb-b582-f6cc7eb0f89f",
   "metadata": {},
   "outputs": [
    {
     "name": "stdout",
     "output_type": "stream",
     "text": [
      "[1] \"Proportion of treated within common support: 0.465753424657534\"\n",
      "[1] \"Proportion of control within common support: 0.607350096711799\"\n"
     ]
    }
   ],
   "source": [
    "# Define common support range\n",
    "common_support_min <- max(range_treatment[1], range_control[1])\n",
    "common_support_max <- min(range_treatment[2], range_control[2])\n",
    "\n",
    "# Calculate proportions within common support\n",
    "prop_treatment_within <- mean(treatment_scores >= common_support_min & treatment_scores <= common_support_max)\n",
    "prop_control_within <- mean(control_scores >= common_support_min & control_scores <= common_support_max)\n",
    "\n",
    "print(paste(\"Proportion of treated within common support:\", prop_treatment_within))\n",
    "print(paste(\"Proportion of control within common support:\", prop_control_within))\n"
   ]
  },
  {
   "cell_type": "code",
   "execution_count": 16,
   "id": "1e4a07ae-0a37-4fa4-ac67-ea8fea53fb68",
   "metadata": {},
   "outputs": [
    {
     "name": "stdout",
     "output_type": "stream",
     "text": [
      "package 'densityClust' successfully unpacked and MD5 sums checked\n",
      "[1] \"Density overlap coefficient: 0.02\"\n"
     ]
    }
   ],
   "source": [
    "install.packages(\"densityClust\", quiet= TRUE)\n",
    "suppressPackageStartupMessages(library(densityClust))\n",
    "\n",
    "# Compute density estimates\n",
    "density_treatment <- density(treatment_scores)\n",
    "density_control <- density(control_scores)\n",
    "\n",
    "# Compute overlap coefficient\n",
    "overlap_coeff <- sum(pmin(density_treatment$y, density_control$y)) / sum(density_treatment$y + density_control$y)\n",
    "print(paste(\"Density overlap coefficient:\", round(overlap_coeff, 2)))"
   ]
  },
  {
   "cell_type": "code",
   "execution_count": null,
   "id": "4591c4fe-a4e2-4ec2-a21e-3f8d1de93d1e",
   "metadata": {},
   "outputs": [],
   "source": []
  }
 ],
 "metadata": {
  "kernelspec": {
   "display_name": "R",
   "language": "R",
   "name": "ir"
  },
  "language_info": {
   "codemirror_mode": "r",
   "file_extension": ".r",
   "mimetype": "text/x-r-source",
   "name": "R",
   "pygments_lexer": "r",
   "version": "4.3.1"
  }
 },
 "nbformat": 4,
 "nbformat_minor": 5
}
