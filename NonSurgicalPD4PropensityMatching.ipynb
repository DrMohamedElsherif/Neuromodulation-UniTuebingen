{
 "cells": [
  {
   "cell_type": "code",
   "execution_count": 1,
   "id": "1cdcb076-fc17-4a14-834f-fc1fe4ca71b3",
   "metadata": {
    "tags": []
   },
   "outputs": [],
   "source": [
    "import pandas as pd\n",
    "import numpy as np"
   ]
  },
  {
   "cell_type": "markdown",
   "id": "0ff3b28a-533e-4878-b062-c1236be53bf9",
   "metadata": {},
   "source": [
    "## Load and filter Non-Surgical PDs"
   ]
  },
  {
   "cell_type": "code",
   "execution_count": 2,
   "id": "cae72c9f-2258-4002-8ec7-b8904b2c2cf8",
   "metadata": {},
   "outputs": [
    {
     "name": "stdout",
     "output_type": "stream",
     "text": [
      "    PATNO  ENROLL_AGE     SEX\n",
      "16   3001        65.1    male\n",
      "29   3002        67.6  female\n",
      "42   3003        56.7  female\n",
      "44   3006        57.5  female\n",
      "60   3010        47.0    male\n"
     ]
    },
    {
     "data": {
      "text/plain": [
       "(1061, 3)"
      ]
     },
     "execution_count": 2,
     "metadata": {},
     "output_type": "execute_result"
    }
   ],
   "source": [
    "file_path = r\"C:\\Users\\Admin\\Downloads\\ParkinsonsDisease_NeuromodulationResearch\\PD_DataForPDbaseline4PropMatch\\for_model.csv\"\n",
    "Marius = pd.read_csv(file_path)\n",
    "\n",
    "# Remove the last 13 columns\n",
    "Marius_trimmed = Marius.iloc[:, :-13]\n",
    "\n",
    "# Keep only the 'PATNO', 'ENROLL_AGE', and 'SEX' columns\n",
    "Marius_relevant = Marius_trimmed[['PATNO', 'ENROLL_AGE', 'SEX']]\n",
    "\n",
    "# Remove duplicate PATNO values while keeping the first occurrence\n",
    "Marius_unique = Marius_relevant.drop_duplicates(subset='PATNO', keep='last')\n",
    "\n",
    "# Print the result\n",
    "print(Marius_unique.head())\n",
    "Marius_unique.shape"
   ]
  },
  {
   "cell_type": "markdown",
   "id": "8d263f59-0b06-4e45-bc3d-61250213506d",
   "metadata": {},
   "source": [
    "## Load each all UPDRS collected Scores (I-III) and Filter only for Measurments at Baseline (BL) "
   ]
  },
  {
   "cell_type": "code",
   "execution_count": 3,
   "id": "00853b54-4b46-47b7-8acf-e1f7c788af0d",
   "metadata": {},
   "outputs": [
    {
     "name": "stdout",
     "output_type": "stream",
     "text": [
      "    PATNO EVENT_ID   INFODT  NP3TOT\n",
      "0    3000       BL  02/2011     4.0\n",
      "9    3001       BL  03/2011    12.0\n",
      "35   3002       BL  03/2011    17.0\n",
      "61   3003       BL  04/2011    29.0\n",
      "85   3004       BL  04/2011     2.0\n",
      "    PATNO EVENT_ID   INFODT  NP2PTOT\n",
      "0    3000       BL  02/2011      0.0\n",
      "8    3001       BL  03/2011      2.0\n",
      "30   3002       BL  03/2011     15.0\n",
      "50   3003       BL  04/2011      6.0\n",
      "71   3004       BL  04/2011      0.0\n",
      "    PATNO EVENT_ID   INFODT  NP1PTOT\n",
      "0    3000       BL  02/2011      3.0\n",
      "8    3001       BL  03/2011      8.0\n",
      "30   3002       BL  03/2011      5.0\n",
      "50   3003       BL  04/2011     11.0\n",
      "71   3004       BL  04/2011      2.0\n",
      "    PATNO EVENT_ID   INFODT  NP1RTOT\n",
      "0    3000       BL  02/2011      3.0\n",
      "9    3001       BL  03/2011      0.0\n",
      "31   3002       BL  03/2011      3.0\n",
      "51   3003       BL  04/2011      1.0\n",
      "72   3004       BL  04/2011      0.0\n"
     ]
    }
   ],
   "source": [
    "# Load and filter dataIII\n",
    "file_path = r\"C:\\Users\\Admin\\Downloads\\ParkinsonsDisease_NeuromodulationResearch\\PD_DataForPDbaseline4PropMatch\\MDS-UPDRS_Part_III_28Aug2024.csv\"\n",
    "data = pd.read_csv(file_path)\n",
    "dataIII = data[[\"PATNO\", \"EVENT_ID\", \"INFODT\", \"NP3TOT\"]]\n",
    "dataIII = dataIII[dataIII[\"EVENT_ID\"].str.strip() == \"BL\"]\n",
    "\n",
    "# Load and filter dataII\n",
    "file_path = r\"C:\\Users\\Admin\\Downloads\\ParkinsonsDisease_NeuromodulationResearch\\PD_DataForPDbaseline4PropMatch\\MDS_UPDRS_Part_II__Patient_Questionnaire_28Aug2024.csv\"\n",
    "data = pd.read_csv(file_path)\n",
    "dataII = data[[\"PATNO\", \"EVENT_ID\", \"INFODT\", \"NP2PTOT\"]]\n",
    "dataII = dataII[dataII[\"EVENT_ID\"].str.strip() == \"BL\"]\n",
    "\n",
    "# Load and filter dataIPQ\n",
    "file_path = r\"C:\\Users\\Admin\\Downloads\\ParkinsonsDisease_NeuromodulationResearch\\PD_DataForPDbaseline4PropMatch\\MDS-UPDRS_Part_I_Patient_Questionnaire_28Aug2024.csv\"\n",
    "data = pd.read_csv(file_path)\n",
    "dataIPQ = data[[\"PATNO\", \"EVENT_ID\", \"INFODT\", \"NP1PTOT\"]]\n",
    "dataIPQ = dataIPQ[dataIPQ[\"EVENT_ID\"].str.strip() == \"BL\"]\n",
    "\n",
    "# Load and filter dataI\n",
    "file_path = r\"C:\\Users\\Admin\\Downloads\\ParkinsonsDisease_NeuromodulationResearch\\PD_DataForPDbaseline4PropMatch\\MDS-UPDRS_Part_I_28Aug2024.csv\"\n",
    "data = pd.read_csv(file_path)\n",
    "dataI = data[[\"PATNO\", \"EVENT_ID\", \"INFODT\", \"NP1RTOT\"]]\n",
    "dataI = dataI[dataI[\"EVENT_ID\"].str.strip() == \"BL\"]\n",
    "\n",
    "# Display the results\n",
    "print(dataIII.head())\n",
    "print(dataII.head())\n",
    "print(dataIPQ.head())\n",
    "print(dataI.head())"
   ]
  },
  {
   "cell_type": "markdown",
   "id": "0dda05fd-1ee7-4cc3-8fd0-05c067e1711b",
   "metadata": {},
   "source": [
    "### Merge all filtered UPDRS "
   ]
  },
  {
   "cell_type": "code",
   "execution_count": 4,
   "id": "95ecce40-a400-4d22-9ebe-ce13a9b1c5c7",
   "metadata": {},
   "outputs": [
    {
     "name": "stdout",
     "output_type": "stream",
     "text": [
      "   PATNO EVENT_ID INFODT_x  NP3TOT INFODT_y  NP2PTOT INFODT_x  NP1PTOT  \\\n",
      "0   3000       BL  02/2011     4.0  02/2011      0.0  02/2011      3.0   \n",
      "1   3001       BL  03/2011    12.0  03/2011      2.0  03/2011      8.0   \n",
      "2   3002       BL  03/2011    17.0  03/2011     15.0  03/2011      5.0   \n",
      "3   3003       BL  04/2011    29.0  04/2011      6.0  04/2011     11.0   \n",
      "4   3004       BL  04/2011     2.0  04/2011      0.0  04/2011      2.0   \n",
      "\n",
      "  INFODT_y  NP1RTOT  \n",
      "0  02/2011      3.0  \n",
      "1  03/2011      0.0  \n",
      "2  03/2011      3.0  \n",
      "3  04/2011      1.0  \n",
      "4  04/2011      0.0  \n"
     ]
    }
   ],
   "source": [
    "# Merge the datasets on 'PATNO' and 'EVENT_ID' using inner joins\n",
    "merged_df_31_08 = dataIII.merge(dataII, on=['PATNO', 'EVENT_ID'], how='inner') \\\n",
    "                   .merge(dataIPQ, on=['PATNO', 'EVENT_ID'], how='inner') \\\n",
    "                   .merge(dataI, on=['PATNO', 'EVENT_ID'], how='inner')\n",
    "\n",
    "print(merged_df_31_08.head())"
   ]
  },
  {
   "cell_type": "code",
   "execution_count": 5,
   "id": "cf8895c5-ceee-4b95-9db7-8aec3c071e95",
   "metadata": {},
   "outputs": [
    {
     "name": "stdout",
     "output_type": "stream",
     "text": [
      "   PATNO EVENT_ID INFODT_x  NP3TOT INFODT_y  NP2PTOT INFODT_x  NP1PTOT  \\\n",
      "0   3000       BL  02/2011     4.0  02/2011      0.0  02/2011      3.0   \n",
      "1   3001       BL  03/2011    12.0  03/2011      2.0  03/2011      8.0   \n",
      "2   3002       BL  03/2011    17.0  03/2011     15.0  03/2011      5.0   \n",
      "3   3003       BL  04/2011    29.0  04/2011      6.0  04/2011     11.0   \n",
      "4   3004       BL  04/2011     2.0  04/2011      0.0  04/2011      2.0   \n",
      "\n",
      "  INFODT_y  NP1RTOT  UPDRSTOT  \n",
      "0  02/2011      3.0      10.0  \n",
      "1  03/2011      0.0      22.0  \n",
      "2  03/2011      3.0      40.0  \n",
      "3  04/2011      1.0      47.0  \n",
      "4  04/2011      0.0       4.0  \n"
     ]
    }
   ],
   "source": [
    "# Create the new column 'UPDRSTOT' by summing the specified columns\n",
    "merged_df_31_08['UPDRSTOT'] = merged_df_31_08[['NP3TOT', 'NP2PTOT', 'NP1PTOT', 'NP1RTOT']].sum(axis=1)\n",
    "print(merged_df_31_08.head())"
   ]
  },
  {
   "cell_type": "code",
   "execution_count": 6,
   "id": "25c69507-c04c-4b3d-ae36-8f0e02027588",
   "metadata": {},
   "outputs": [
    {
     "data": {
      "text/plain": [
       "(3922, 11)"
      ]
     },
     "execution_count": 6,
     "metadata": {},
     "output_type": "execute_result"
    }
   ],
   "source": [
    "merged_df_31_08.shape"
   ]
  },
  {
   "cell_type": "code",
   "execution_count": 7,
   "id": "dc0bdeeb-5bee-4095-a7a5-992f5bba82b0",
   "metadata": {},
   "outputs": [
    {
     "data": {
      "text/plain": [
       "3744"
      ]
     },
     "execution_count": 7,
     "metadata": {},
     "output_type": "execute_result"
    }
   ],
   "source": [
    "merged_df_31_08['PATNO'].nunique()"
   ]
  },
  {
   "cell_type": "code",
   "execution_count": 8,
   "id": "a40773d9-18de-462f-a9e8-13b628e3474a",
   "metadata": {},
   "outputs": [
    {
     "name": "stdout",
     "output_type": "stream",
     "text": [
      "   PATNO EVENT_ID   INFODT  NP3TOT  NP2PTOT  NP1PTOT  NP1RTOT  UPDRSTOT\n",
      "0   3000       BL  02/2011     4.0      0.0      3.0      3.0      10.0\n",
      "1   3001       BL  03/2011    12.0      2.0      8.0      0.0      22.0\n",
      "2   3002       BL  03/2011    17.0     15.0      5.0      3.0      40.0\n",
      "3   3003       BL  04/2011    29.0      6.0     11.0      1.0      47.0\n",
      "4   3004       BL  04/2011     2.0      0.0      2.0      0.0       4.0\n"
     ]
    },
    {
     "data": {
      "text/plain": [
       "(3922, 8)"
      ]
     },
     "execution_count": 8,
     "metadata": {},
     "output_type": "execute_result"
    }
   ],
   "source": [
    "# Define the required columns, keeping only the first occurrence of INFODT_x and renaming it to INFODT\n",
    "required_columns = ['PATNO', 'EVENT_ID', 'INFODT_x', 'NP3TOT', 'NP2PTOT', 'NP1PTOT', 'NP1RTOT', 'UPDRSTOT']\n",
    "\n",
    "# Select the required columns from the DataFrame\n",
    "merged_df_31_08_dropped = merged_df_31_08[required_columns]\n",
    "\n",
    "# Rename 'INFODT_x' to 'INFODT'\n",
    "merged_df_31_08_dropped = merged_df_31_08_dropped.rename(columns={'INFODT_x': 'INFODT'})\n",
    "\n",
    "# Drop any remaining occurrences of 'INFODT' if they exist\n",
    "merged_df_31_08_dropped = merged_df_31_08_dropped.loc[:, ~merged_df_31_08_dropped.columns.duplicated()]\n",
    "\n",
    "# Display the result\n",
    "print(merged_df_31_08_dropped.head())\n",
    "merged_df_31_08_dropped.shape"
   ]
  },
  {
   "cell_type": "code",
   "execution_count": 9,
   "id": "be7bdd7a-21b4-4cdd-9e7f-0b3e71fe5e93",
   "metadata": {
    "tags": []
   },
   "outputs": [],
   "source": [
    "merged_df_31_08_unique = merged_df_31_08_dropped.drop_duplicates(subset='PATNO')"
   ]
  },
  {
   "cell_type": "code",
   "execution_count": 10,
   "id": "46f7bea5-73a3-4cc1-91f2-d6c9946d95de",
   "metadata": {},
   "outputs": [
    {
     "data": {
      "text/plain": [
       "(3744, 8)"
      ]
     },
     "execution_count": 10,
     "metadata": {},
     "output_type": "execute_result"
    }
   ],
   "source": [
    "merged_df_31_08_unique.shape"
   ]
  },
  {
   "cell_type": "code",
   "execution_count": 11,
   "id": "128ce3e8-dd8c-46b2-a9bf-f3a11f54f9a8",
   "metadata": {},
   "outputs": [
    {
     "data": {
      "text/html": [
       "<div>\n",
       "<style scoped>\n",
       "    .dataframe tbody tr th:only-of-type {\n",
       "        vertical-align: middle;\n",
       "    }\n",
       "\n",
       "    .dataframe tbody tr th {\n",
       "        vertical-align: top;\n",
       "    }\n",
       "\n",
       "    .dataframe thead th {\n",
       "        text-align: right;\n",
       "    }\n",
       "</style>\n",
       "<table border=\"1\" class=\"dataframe\">\n",
       "  <thead>\n",
       "    <tr style=\"text-align: right;\">\n",
       "      <th></th>\n",
       "      <th>PATNO</th>\n",
       "      <th>EVENT_ID</th>\n",
       "      <th>INFODT</th>\n",
       "      <th>NP3TOT</th>\n",
       "      <th>NP2PTOT</th>\n",
       "      <th>NP1PTOT</th>\n",
       "      <th>NP1RTOT</th>\n",
       "      <th>UPDRSTOT</th>\n",
       "    </tr>\n",
       "  </thead>\n",
       "  <tbody>\n",
       "    <tr>\n",
       "      <th>0</th>\n",
       "      <td>3000</td>\n",
       "      <td>BL</td>\n",
       "      <td>02/2011</td>\n",
       "      <td>4.0</td>\n",
       "      <td>0.0</td>\n",
       "      <td>3.0</td>\n",
       "      <td>3.0</td>\n",
       "      <td>10.0</td>\n",
       "    </tr>\n",
       "    <tr>\n",
       "      <th>1</th>\n",
       "      <td>3001</td>\n",
       "      <td>BL</td>\n",
       "      <td>03/2011</td>\n",
       "      <td>12.0</td>\n",
       "      <td>2.0</td>\n",
       "      <td>8.0</td>\n",
       "      <td>0.0</td>\n",
       "      <td>22.0</td>\n",
       "    </tr>\n",
       "    <tr>\n",
       "      <th>2</th>\n",
       "      <td>3002</td>\n",
       "      <td>BL</td>\n",
       "      <td>03/2011</td>\n",
       "      <td>17.0</td>\n",
       "      <td>15.0</td>\n",
       "      <td>5.0</td>\n",
       "      <td>3.0</td>\n",
       "      <td>40.0</td>\n",
       "    </tr>\n",
       "    <tr>\n",
       "      <th>3</th>\n",
       "      <td>3003</td>\n",
       "      <td>BL</td>\n",
       "      <td>04/2011</td>\n",
       "      <td>29.0</td>\n",
       "      <td>6.0</td>\n",
       "      <td>11.0</td>\n",
       "      <td>1.0</td>\n",
       "      <td>47.0</td>\n",
       "    </tr>\n",
       "    <tr>\n",
       "      <th>4</th>\n",
       "      <td>3004</td>\n",
       "      <td>BL</td>\n",
       "      <td>04/2011</td>\n",
       "      <td>2.0</td>\n",
       "      <td>0.0</td>\n",
       "      <td>2.0</td>\n",
       "      <td>0.0</td>\n",
       "      <td>4.0</td>\n",
       "    </tr>\n",
       "  </tbody>\n",
       "</table>\n",
       "</div>"
      ],
      "text/plain": [
       "   PATNO EVENT_ID   INFODT  NP3TOT  NP2PTOT  NP1PTOT  NP1RTOT  UPDRSTOT\n",
       "0   3000       BL  02/2011     4.0      0.0      3.0      3.0      10.0\n",
       "1   3001       BL  03/2011    12.0      2.0      8.0      0.0      22.0\n",
       "2   3002       BL  03/2011    17.0     15.0      5.0      3.0      40.0\n",
       "3   3003       BL  04/2011    29.0      6.0     11.0      1.0      47.0\n",
       "4   3004       BL  04/2011     2.0      0.0      2.0      0.0       4.0"
      ]
     },
     "execution_count": 11,
     "metadata": {},
     "output_type": "execute_result"
    }
   ],
   "source": [
    "merged_df_31_08_unique.head()"
   ]
  },
  {
   "cell_type": "markdown",
   "id": "02755c8e-5d3e-410a-941b-e22ca18fbd37",
   "metadata": {},
   "source": [
    "### Merge based on Non-surgical patients"
   ]
  },
  {
   "cell_type": "code",
   "execution_count": 12,
   "id": "34d3c3e6-1a03-4864-bfe7-81c827bc9a66",
   "metadata": {},
   "outputs": [
    {
     "name": "stdout",
     "output_type": "stream",
     "text": [
      "   PATNO EVENT_ID   INFODT  NP3TOT  NP2PTOT  NP1PTOT  NP1RTOT  UPDRSTOT  \\\n",
      "0   3001       BL  03/2011    12.0      2.0      8.0      0.0      22.0   \n",
      "1   3002       BL  03/2011    17.0     15.0      5.0      3.0      40.0   \n",
      "2   3003       BL  04/2011    29.0      6.0     11.0      1.0      47.0   \n",
      "3   3006       BL  04/2011    22.0      4.0      2.0      1.0      29.0   \n",
      "4   3010       BL  06/2011    19.0     11.0      9.0      2.0      41.0   \n",
      "\n",
      "   ENROLL_AGE     SEX  \n",
      "0        65.1    male  \n",
      "1        67.6  female  \n",
      "2        56.7  female  \n",
      "3        57.5  female  \n",
      "4        47.0    male  \n"
     ]
    }
   ],
   "source": [
    "# Perform the inner join on 'PATNO'\n",
    "final_merged_df = merged_df_31_08_unique.merge(Marius_unique, on='PATNO', how='inner')\n",
    "\n",
    "# Display the result\n",
    "print(final_merged_df.head())"
   ]
  },
  {
   "cell_type": "code",
   "execution_count": 13,
   "id": "d06e36ea-8d77-4f2a-bec7-ad7300d6dd12",
   "metadata": {},
   "outputs": [
    {
     "name": "stdout",
     "output_type": "stream",
     "text": [
      "All PATNO values in final_merged_df match those in Marius_unique.\n"
     ]
    }
   ],
   "source": [
    "# Check if all PATNO values in final_merged_df are present in Marius_unique\n",
    "all_match = final_merged_df['PATNO'].isin(Marius_unique['PATNO']).all()\n",
    "\n",
    "if all_match:\n",
    "    print(\"All PATNO values in final_merged_df match those in Marius_unique.\")\n",
    "else:\n",
    "    print(\"There are PATNO values in final_merged_df that do not match those in Marius_unique.\")"
   ]
  },
  {
   "cell_type": "code",
   "execution_count": 14,
   "id": "13bc6ff1-c906-42f7-8f73-206fc1745d8f",
   "metadata": {},
   "outputs": [],
   "source": [
    "assert final_merged_df['PATNO'].isin(Marius_unique['PATNO']).all(), \"There are PATNO values in final_merged_df that do not match those in Marius_unique.\""
   ]
  },
  {
   "cell_type": "code",
   "execution_count": 15,
   "id": "9883b11d-8b46-45d1-a6e5-5fc143bb85ae",
   "metadata": {},
   "outputs": [
    {
     "name": "stdout",
     "output_type": "stream",
     "text": [
      "(1058, 10)\n"
     ]
    },
    {
     "data": {
      "text/plain": [
       "PATNO          0\n",
       "EVENT_ID       0\n",
       "INFODT         0\n",
       "NP3TOT         4\n",
       "NP2PTOT        1\n",
       "NP1PTOT        0\n",
       "NP1RTOT        4\n",
       "UPDRSTOT       0\n",
       "ENROLL_AGE    11\n",
       "SEX            0\n",
       "dtype: int64"
      ]
     },
     "execution_count": 15,
     "metadata": {},
     "output_type": "execute_result"
    }
   ],
   "source": [
    "print(final_merged_df.shape)\n",
    "final_merged_df.isna().sum()\n",
    "final_merged_df.isna().sum()"
   ]
  },
  {
   "cell_type": "code",
   "execution_count": 16,
   "id": "3a26430d-7d9a-41a7-abef-7e1fcd6dd045",
   "metadata": {},
   "outputs": [
    {
     "data": {
      "text/plain": [
       "1058"
      ]
     },
     "execution_count": 16,
     "metadata": {},
     "output_type": "execute_result"
    }
   ],
   "source": [
    "final_merged_df['PATNO'].nunique()"
   ]
  },
  {
   "cell_type": "code",
   "execution_count": 17,
   "id": "292ffb8f-d7fa-44ee-aa51-7da690a6b206",
   "metadata": {},
   "outputs": [
    {
     "name": "stdout",
     "output_type": "stream",
     "text": [
      "PATNO         0\n",
      "EVENT_ID      0\n",
      "INFODT        0\n",
      "NP3TOT        0\n",
      "NP2PTOT       0\n",
      "NP1PTOT       0\n",
      "NP1RTOT       0\n",
      "UPDRSTOT      0\n",
      "ENROLL_AGE    0\n",
      "SEX           0\n",
      "dtype: int64\n"
     ]
    },
    {
     "data": {
      "text/plain": [
       "(1038, 10)"
      ]
     },
     "execution_count": 17,
     "metadata": {},
     "output_type": "execute_result"
    }
   ],
   "source": [
    "# Remove all rows with any NaN values\n",
    "final_merged_df_cleaned = final_merged_df.dropna()\n",
    "print(final_merged_df_cleaned.isna().sum())\n",
    "final_merged_df_cleaned.shape"
   ]
  },
  {
   "cell_type": "code",
   "execution_count": 18,
   "id": "bf237b1d-ba47-4d8b-8183-0d7068a86d42",
   "metadata": {},
   "outputs": [
    {
     "data": {
      "text/plain": [
       "1038"
      ]
     },
     "execution_count": 18,
     "metadata": {},
     "output_type": "execute_result"
    }
   ],
   "source": [
    "final_merged_df_cleaned['PATNO'].nunique()"
   ]
  },
  {
   "cell_type": "markdown",
   "id": "d9fabafe-5916-45cf-a006-966871258887",
   "metadata": {},
   "source": [
    "### EXPLORE UPDRS IV data"
   ]
  },
  {
   "cell_type": "code",
   "execution_count": 19,
   "id": "de28db08-8389-4ec2-9eb1-78bbce483d78",
   "metadata": {},
   "outputs": [],
   "source": [
    "# Load and filter dataIV\n",
    "file_path = r\"C:\\Users\\Admin\\Downloads\\ParkinsonsDisease_NeuromodulationResearch\\PD_DataForPDbaseline4PropMatch\\MDS-UPDRS_Part_IV__Motor_Complications_28Aug2024.csv\"\n",
    "data = pd.read_csv(file_path)\n",
    "dataIV = data[[\"PATNO\", \"EVENT_ID\", \"NP4TOT\"]]\n",
    "dataIV= dataIV[dataIV[\"EVENT_ID\"].str.strip() == \"BL\"]"
   ]
  },
  {
   "cell_type": "code",
   "execution_count": 20,
   "id": "02e480a7-41be-4e17-8221-f9501f5c21e7",
   "metadata": {},
   "outputs": [
    {
     "name": "stdout",
     "output_type": "stream",
     "text": [
      "The number of PATNO values in dataIV that match those in final_merged_df_cleaned is: 241\n"
     ]
    }
   ],
   "source": [
    "# Find the PATNO values that are common to both dataIV and final_merged_df_cleaned\n",
    "common_patno = dataIV['PATNO'].isin(final_merged_df_cleaned['PATNO'])\n",
    "\n",
    "# Count the number of matching PATNO values\n",
    "num_matching_patno = common_patno.sum()\n",
    "\n",
    "print(f\"The number of PATNO values in dataIV that match those in final_merged_df_cleaned is: {num_matching_patno}\")"
   ]
  },
  {
   "cell_type": "code",
   "execution_count": 21,
   "id": "7de03c38-170a-4576-b54b-dbc515d4d1b5",
   "metadata": {},
   "outputs": [
    {
     "name": "stdout",
     "output_type": "stream",
     "text": [
      "The number of matching PATNO values in dataIV with NP4TOT == 0 is: 150\n"
     ]
    }
   ],
   "source": [
    "# Find the PATNO values that are common to both dataIV and final_merged_df_cleaned\n",
    "matching_patno = dataIV[dataIV['PATNO'].isin(final_merged_df_cleaned['PATNO'])]\n",
    "\n",
    "# Count how many of these have NP4TOT == 0\n",
    "count_np4tot_zero = (matching_patno['NP4TOT'] == 0).sum()\n",
    "\n",
    "print(f\"The number of matching PATNO values in dataIV with NP4TOT == 0 is: {count_np4tot_zero}\")"
   ]
  },
  {
   "cell_type": "markdown",
   "id": "92835145-41e6-4dd0-bd73-c2fbbb2e72c6",
   "metadata": {},
   "source": [
    "##### _Merging the UPDRS-IV will compromise the collected non-surgical data due to very large missing values, therefore was execluded from total UPDRS calculation_"
   ]
  },
  {
   "cell_type": "markdown",
   "id": "205b3623-6262-4d53-9514-f8154eff5e4e",
   "metadata": {},
   "source": [
    "### Demographics + PD Diagnosis Date Merging"
   ]
  },
  {
   "cell_type": "code",
   "execution_count": 22,
   "id": "a5d8e4df-07ae-4dd9-aba3-0a155b47acf3",
   "metadata": {},
   "outputs": [
    {
     "name": "stdout",
     "output_type": "stream",
     "text": [
      "    PATNO  BIRTHDT  HANDED\n",
      "1    3001  01/1946     2.0\n",
      "2    3002  08/1943     1.0\n",
      "3    3003  07/1954     1.0\n",
      "6    3006  10/1953     1.0\n",
      "10   3010  06/1964     3.0\n",
      "12   3012  01/1953     1.0\n"
     ]
    }
   ],
   "source": [
    "# Load and prepare Demo DataFrame\n",
    "file_path = r\"C:\\Users\\Admin\\Downloads\\ParkinsonsDisease_NeuromodulationResearch\\PD_DataForPDbaseline4PropMatch\\Demographics_31Aug2024.csv\"\n",
    "Demo = pd.read_csv(file_path)\n",
    "\n",
    "# Keep only the 'PATNO', 'BIRTHDT', 'HANDED' columns\n",
    "Demo_relevant = Demo[['PATNO', 'BIRTHDT', 'HANDED']]\n",
    "\n",
    "# Filter Demo_relevant to keep only PATNO values present in final_merged_df_cleaned['PATNO']\n",
    "filtered_Demo_relevant = Demo_relevant[Demo_relevant['PATNO'].isin(final_merged_df_cleaned['PATNO'])]\n",
    "\n",
    "# Display the result\n",
    "print(filtered_Demo_relevant.head(6))"
   ]
  },
  {
   "cell_type": "code",
   "execution_count": 23,
   "id": "aef82bb8-a077-445f-9943-4e3b29ff87ac",
   "metadata": {},
   "outputs": [
    {
     "data": {
      "text/plain": [
       "(1038, 3)"
      ]
     },
     "execution_count": 23,
     "metadata": {},
     "output_type": "execute_result"
    }
   ],
   "source": [
    "filtered_Demo_relevant.shape"
   ]
  },
  {
   "cell_type": "code",
   "execution_count": 24,
   "id": "f35e3c3b-34d6-443f-8610-33b438fee047",
   "metadata": {},
   "outputs": [
    {
     "data": {
      "text/plain": [
       "PATNO      0\n",
       "BIRTHDT    0\n",
       "HANDED     1\n",
       "dtype: int64"
      ]
     },
     "execution_count": 24,
     "metadata": {},
     "output_type": "execute_result"
    }
   ],
   "source": [
    "filtered_Demo_relevant.isna().sum()"
   ]
  },
  {
   "cell_type": "code",
   "execution_count": 25,
   "id": "fd4529ba-a267-4717-b8a6-57277a0e9a38",
   "metadata": {},
   "outputs": [
    {
     "name": "stdout",
     "output_type": "stream",
     "text": [
      "   PATNO   PDDXDT\n",
      "0   3001  04/2010\n",
      "1   3002  02/2010\n",
      "2   3003  03/2009\n",
      "4   3006  11/2010\n",
      "6   3010  02/2011\n",
      "7   3012  08/2011\n"
     ]
    }
   ],
   "source": [
    "# Load and prepare Demo DataFrame\n",
    "file_path = r\"C:\\Users\\Admin\\Downloads\\ParkinsonsDisease_NeuromodulationResearch\\PD_DataForPDbaseline4PropMatch\\PD_Diagnosis_History_31Aug2024.csv\"\n",
    "PDDX = pd.read_csv(file_path)\n",
    "\n",
    "# Keep only the 'PATNO', 'PDDXDT' columns\n",
    "PDDX_relevant = PDDX[['PATNO', 'PDDXDT']]\n",
    "\n",
    "# Filter Demo_relevant to keep only PATNO values present in final_merged_df_cleaned['PATNO']\n",
    "filtered_PDDX_relevant = PDDX_relevant[PDDX_relevant['PATNO'].isin(final_merged_df_cleaned['PATNO'])]\n",
    "\n",
    "# Display the result\n",
    "print(filtered_PDDX_relevant.head(6))"
   ]
  },
  {
   "cell_type": "code",
   "execution_count": 26,
   "id": "c93ba070-6539-414c-97c4-afb5604a1424",
   "metadata": {
    "tags": []
   },
   "outputs": [
    {
     "data": {
      "text/plain": [
       "(1037, 2)"
      ]
     },
     "execution_count": 26,
     "metadata": {},
     "output_type": "execute_result"
    }
   ],
   "source": [
    "filtered_PDDX_relevant.shape"
   ]
  },
  {
   "cell_type": "code",
   "execution_count": 27,
   "id": "b7dfb054-fbaf-45c8-8aab-41086a8f3d91",
   "metadata": {},
   "outputs": [
    {
     "name": "stdout",
     "output_type": "stream",
     "text": [
      "Merged DataFrame:\n",
      "   PATNO  BIRTHDT  HANDED   PDDXDT\n",
      "0   3001  01/1946     2.0  04/2010\n",
      "1   3002  08/1943     1.0  02/2010\n",
      "2   3003  07/1954     1.0  03/2009\n",
      "3   3006  10/1953     1.0  11/2010\n",
      "4   3010  06/1964     3.0  02/2011\n",
      "5   3012  01/1953     1.0  08/2011\n"
     ]
    },
    {
     "data": {
      "text/plain": [
       "(1037, 4)"
      ]
     },
     "execution_count": 27,
     "metadata": {},
     "output_type": "execute_result"
    }
   ],
   "source": [
    "# Merge both datasets on 'PATNO' to retain only shared PATNO values\n",
    "merged_filtered_DemoPDDX = pd.merge(filtered_Demo_relevant, filtered_PDDX_relevant, on='PATNO', how='inner')\n",
    "\n",
    "# Display the merged result\n",
    "print(\"Merged DataFrame:\")\n",
    "print(merged_filtered_DemoPDDX.head(6))\n",
    "merged_filtered_DemoPDDX.shape"
   ]
  },
  {
   "cell_type": "code",
   "execution_count": 28,
   "id": "e890ff6c-d827-4a00-bfd3-0ccadf6ca282",
   "metadata": {},
   "outputs": [
    {
     "data": {
      "text/plain": [
       "PATNO      0\n",
       "BIRTHDT    0\n",
       "HANDED     1\n",
       "PDDXDT     0\n",
       "dtype: int64"
      ]
     },
     "execution_count": 28,
     "metadata": {},
     "output_type": "execute_result"
    }
   ],
   "source": [
    "merged_filtered_DemoPDDX.isna().sum()"
   ]
  },
  {
   "cell_type": "code",
   "execution_count": 29,
   "id": "af3c0bf4-1581-47d2-a219-09d38b0685a4",
   "metadata": {},
   "outputs": [
    {
     "name": "stdout",
     "output_type": "stream",
     "text": [
      "       PATNO    BIRTHDT  HANDED     PDDXDT  AgePDDX\n",
      "0       3001 1946-01-01     2.0 2010-04-01     64.0\n",
      "1       3002 1943-08-01     1.0 2010-02-01     66.0\n",
      "2       3003 1954-07-01     1.0 2009-03-01     54.0\n",
      "3       3006 1953-10-01     1.0 2010-11-01     57.0\n",
      "4       3010 1964-06-01     3.0 2011-02-01     46.0\n",
      "...      ...        ...     ...        ...      ...\n",
      "1032  293681 1943-12-01     1.0 2023-11-01     79.0\n",
      "1033  293787 1978-07-01     2.0 2023-08-01     45.0\n",
      "1034  293795 1948-01-01     1.0 2023-11-01     75.0\n",
      "1035  293798 1952-06-01     1.0 2023-11-01     71.0\n",
      "1036  293800 1959-08-01     1.0 2023-05-01     63.0\n",
      "\n",
      "[1037 rows x 5 columns]\n"
     ]
    }
   ],
   "source": [
    "# Convert 'BIRTHDT' and 'PDDXDT' to datetime objects\n",
    "merged_filtered_DemoPDDX['BIRTHDT'] = pd.to_datetime(merged_filtered_DemoPDDX['BIRTHDT'], format='%m/%Y')\n",
    "merged_filtered_DemoPDDX['PDDXDT'] = pd.to_datetime(merged_filtered_DemoPDDX['PDDXDT'], format='%m/%Y')\n",
    "\n",
    "# Calculate the difference in years\n",
    "merged_filtered_DemoPDDX['AgePDDX'] = (merged_filtered_DemoPDDX['PDDXDT'] - merged_filtered_DemoPDDX['BIRTHDT']).astype('<m8[Y]')\n",
    "\n",
    "# Display the DataFrame with the new 'AgePDDX' column\n",
    "print(merged_filtered_DemoPDDX)"
   ]
  },
  {
   "cell_type": "markdown",
   "id": "9374feae-5bfa-444d-bcf1-7f9712830284",
   "metadata": {},
   "source": [
    "### MOCA Filtering and Merging with the merged Demo/PDDX"
   ]
  },
  {
   "cell_type": "markdown",
   "id": "9096f655-b5d8-4289-a4ab-154b58239779",
   "metadata": {},
   "source": [
    "#### _IF Baseline (BL) measure is not present, the measure at Screening (SC) was taken instead_"
   ]
  },
  {
   "cell_type": "code",
   "execution_count": 30,
   "id": "4eabc85c-9456-472e-b9e7-e6e094d593d0",
   "metadata": {},
   "outputs": [
    {
     "name": "stdout",
     "output_type": "stream",
     "text": [
      "        PATNO EVENT_ID  MCATOT\n",
      "6112    40784       BL    24.0\n",
      "6114    40789       BL    24.0\n",
      "6140    40893       BL    29.0\n",
      "6407    41411       BL    16.0\n",
      "11100  143757       BL    29.0\n",
      "11366  156490       BL    27.0\n",
      "11553  163478       BL    30.0\n",
      "11578  164985       BL    26.0\n",
      "11707  170471       BL    30.0\n",
      "11712  170481       BL    29.0\n",
      "11781  173006       BL    28.0\n",
      "11786  173327       BL    27.0\n",
      "12079  182984       BL    30.0\n",
      "12102  184190       BL    28.0\n",
      "12138  186108       BL    30.0\n",
      "12174  188170       BL    30.0\n",
      "12227  194803       BL    27.0\n",
      "12271  198746       BL    23.0\n",
      "12374  208996       BL    30.0\n",
      "12377  209141       BL    29.0\n"
     ]
    }
   ],
   "source": [
    "# Load the MOCA DataFrame\n",
    "file_path = r\"C:\\Users\\Admin\\Downloads\\ParkinsonsDisease_NeuromodulationResearch\\PD_DataForPDbaseline4PropMatch\\Montreal_Cognitive_Assessment__MoCA__29Aug2024.csv\"\n",
    "MOCA = pd.read_csv(file_path)\n",
    "\n",
    "# Keep only the 'PATNO', 'EVENT_ID', 'MCATOT' columns\n",
    "MOCA_relevant = MOCA[['PATNO', 'EVENT_ID', 'MCATOT']]\n",
    "\n",
    "# Filter to keep only PATNO values with EVENT_ID = BL\n",
    "BL_rows = MOCA_relevant[MOCA_relevant['EVENT_ID'].str.strip() == 'BL']\n",
    "\n",
    "# Get PATNO values that have EVENT_ID = BL\n",
    "BL_patnos = BL_rows['PATNO'].unique()\n",
    "\n",
    "# Filter to keep only PATNO with EVENT_ID = SC for those not already in BL\n",
    "SC_rows = MOCA_relevant[(MOCA_relevant['EVENT_ID'].str.strip() == 'SC') & (~MOCA_relevant['PATNO'].isin(BL_patnos))]\n",
    "\n",
    "# Further filter both BL_rows and SC_rows to include only PATNO present in final_merged_df_cleaned['PATNO']\n",
    "final_BL_rows = BL_rows[BL_rows['PATNO'].isin(final_merged_df_cleaned['PATNO'])]\n",
    "final_SC_rows = SC_rows[SC_rows['PATNO'].isin(final_merged_df_cleaned['PATNO'])]\n",
    "\n",
    "# Combine both results\n",
    "filtered_MOCA_relevant = pd.concat([final_BL_rows, final_SC_rows])\n",
    "\n",
    "# Display the result\n",
    "print(filtered_MOCA_relevant.head(20))"
   ]
  },
  {
   "cell_type": "code",
   "execution_count": 31,
   "id": "9dcedd9b-db46-4bfe-9e62-12cc9705533f",
   "metadata": {},
   "outputs": [
    {
     "data": {
      "text/plain": [
       "(1037, 3)"
      ]
     },
     "execution_count": 31,
     "metadata": {},
     "output_type": "execute_result"
    }
   ],
   "source": [
    "filtered_MOCA_relevant.shape"
   ]
  },
  {
   "cell_type": "code",
   "execution_count": 32,
   "id": "d172edcb-e61f-413c-8bbf-3318b0213c3f",
   "metadata": {},
   "outputs": [
    {
     "name": "stdout",
     "output_type": "stream",
     "text": [
      "Duplicates based on PATNO:\n",
      "Empty DataFrame\n",
      "Columns: [PATNO, EVENT_ID, MCATOT]\n",
      "Index: []\n",
      "Number of duplicate PATNO values: 0\n"
     ]
    }
   ],
   "source": [
    "# Check for duplicate PATNO values\n",
    "duplicate_patnos = filtered_MOCA_relevant[filtered_MOCA_relevant.duplicated(subset='PATNO', keep=False)]\n",
    "print(\"Duplicates based on PATNO:\")\n",
    "print(duplicate_patnos)\n",
    "\n",
    "# Count of duplicate PATNO values\n",
    "duplicate_count = filtered_MOCA_relevant['PATNO'].duplicated().sum()\n",
    "print(f\"Number of duplicate PATNO values: {duplicate_count}\")"
   ]
  },
  {
   "cell_type": "code",
   "execution_count": 33,
   "id": "ddb9184f-f2bc-47a8-b411-a1bb5ca511d5",
   "metadata": {},
   "outputs": [
    {
     "name": "stdout",
     "output_type": "stream",
     "text": [
      "Count of NaN values in each column:\n",
      "PATNO       0\n",
      "EVENT_ID    0\n",
      "MCATOT      1\n",
      "dtype: int64\n",
      "Are there any NaN values in the DataFrame? Yes\n"
     ]
    }
   ],
   "source": [
    "# Check for NaN values in each column\n",
    "nan_counts = filtered_MOCA_relevant.isna().sum()\n",
    "print(\"Count of NaN values in each column:\")\n",
    "print(nan_counts)\n",
    "\n",
    "# Check if there are any NaN values in the DataFrame\n",
    "has_nan = filtered_MOCA_relevant.isna().any().any()\n",
    "print(f\"Are there any NaN values in the DataFrame? {'Yes' if has_nan else 'No'}\")"
   ]
  },
  {
   "cell_type": "markdown",
   "id": "490aecfd-dfd9-4ff7-8fb4-56523bd7a867",
   "metadata": {},
   "source": [
    "#### _Merge MOCA with Demo/PDDX_"
   ]
  },
  {
   "cell_type": "code",
   "execution_count": 34,
   "id": "e73f1997-81f0-40c2-8441-8075c9f36eb5",
   "metadata": {},
   "outputs": [
    {
     "name": "stdout",
     "output_type": "stream",
     "text": [
      "   PATNO    BIRTHDT  HANDED     PDDXDT  AgePDDX EVENT_ID  MCATOT\n",
      "0   3001 1946-01-01     2.0 2010-04-01     64.0       SC    29.0\n",
      "1   3002 1943-08-01     1.0 2010-02-01     66.0       SC    29.0\n",
      "2   3003 1954-07-01     1.0 2009-03-01     54.0       SC    25.0\n",
      "3   3006 1953-10-01     1.0 2010-11-01     57.0       SC    27.0\n",
      "4   3010 1964-06-01     3.0 2011-02-01     46.0       SC    26.0\n",
      "Number of rows in merged DataFrame: 1036\n"
     ]
    }
   ],
   "source": [
    "# Perform an inner join on 'PATNO' to keep only the shared PATNO values\n",
    "MOCA_DemoPDDX = pd.merge(merged_filtered_DemoPDDX, filtered_MOCA_relevant, on='PATNO', how='inner')\n",
    "\n",
    "print(MOCA_DemoPDDX.head())\n",
    "print(f\"Number of rows in merged DataFrame: {MOCA_DemoPDDX.shape[0]}\")"
   ]
  },
  {
   "cell_type": "code",
   "execution_count": 35,
   "id": "cf2d8147-abbf-45a6-8778-473d095e973e",
   "metadata": {
    "tags": []
   },
   "outputs": [],
   "source": [
    "MOCA_DemoPDDX_cleaned = MOCA_DemoPDDX.dropna()"
   ]
  },
  {
   "cell_type": "code",
   "execution_count": 36,
   "id": "a9447be9-1b96-441b-8ebe-d6cddaf064d5",
   "metadata": {
    "tags": []
   },
   "outputs": [
    {
     "data": {
      "text/plain": [
       "0"
      ]
     },
     "execution_count": 36,
     "metadata": {},
     "output_type": "execute_result"
    }
   ],
   "source": [
    "MOCA_DemoPDDX_cleaned.isna().sum().sum()"
   ]
  },
  {
   "cell_type": "code",
   "execution_count": 37,
   "id": "b8820b29-1221-4d0c-b762-e8e7d4b178b7",
   "metadata": {},
   "outputs": [
    {
     "data": {
      "text/plain": [
       "(1034, 7)"
      ]
     },
     "execution_count": 37,
     "metadata": {},
     "output_type": "execute_result"
    }
   ],
   "source": [
    "MOCA_DemoPDDX_cleaned.shape"
   ]
  },
  {
   "cell_type": "markdown",
   "id": "dfaa7918-8ec4-4da1-af98-19a8438031c7",
   "metadata": {},
   "source": [
    "### Merge MOCA_DemoPDDX and final_merged_df_cleaned (UPDRS total)"
   ]
  },
  {
   "cell_type": "code",
   "execution_count": 38,
   "id": "ff2f7e3d-3c56-41b0-8677-992d2bd3b7f1",
   "metadata": {},
   "outputs": [
    {
     "name": "stdout",
     "output_type": "stream",
     "text": [
      "   PATNO    BIRTHDT  HANDED     PDDXDT  AgePDDX EVENT_ID_x  MCATOT EVENT_ID_y  \\\n",
      "0   3001 1946-01-01     2.0 2010-04-01     64.0         SC    29.0         BL   \n",
      "1   3002 1943-08-01     1.0 2010-02-01     66.0         SC    29.0         BL   \n",
      "2   3003 1954-07-01     1.0 2009-03-01     54.0         SC    25.0         BL   \n",
      "3   3006 1953-10-01     1.0 2010-11-01     57.0         SC    27.0         BL   \n",
      "4   3010 1964-06-01     3.0 2011-02-01     46.0         SC    26.0         BL   \n",
      "\n",
      "    INFODT  NP3TOT  NP2PTOT  NP1PTOT  NP1RTOT  UPDRSTOT  ENROLL_AGE     SEX  \n",
      "0  03/2011    12.0      2.0      8.0      0.0      22.0        65.1    male  \n",
      "1  03/2011    17.0     15.0      5.0      3.0      40.0        67.6  female  \n",
      "2  04/2011    29.0      6.0     11.0      1.0      47.0        56.7  female  \n",
      "3  04/2011    22.0      4.0      2.0      1.0      29.0        57.5  female  \n",
      "4  06/2011    19.0     11.0      9.0      2.0      41.0        47.0    male  \n",
      "Number of rows in merged DataFrame: 1036\n"
     ]
    }
   ],
   "source": [
    "# Perform an inner join on 'PATNO' to keep only the shared PATNO values\n",
    "MOCA_DemoPDDX_UPDRS = pd.merge(MOCA_DemoPDDX, final_merged_df_cleaned, on='PATNO', how='inner')\n",
    "\n",
    "# Display the result\n",
    "print(MOCA_DemoPDDX_UPDRS.head())\n",
    "\n",
    "# Optional: Check the number of rows in the merged DataFrame\n",
    "print(f\"Number of rows in merged DataFrame: {MOCA_DemoPDDX_UPDRS.shape[0]}\")"
   ]
  },
  {
   "cell_type": "code",
   "execution_count": 39,
   "id": "387d9a05-ba38-4867-99b6-9f17d086a0d8",
   "metadata": {},
   "outputs": [
    {
     "data": {
      "text/plain": [
       "PATNO         0\n",
       "BIRTHDT       0\n",
       "HANDED        1\n",
       "PDDXDT        0\n",
       "AgePDDX       0\n",
       "EVENT_ID_x    0\n",
       "MCATOT        1\n",
       "EVENT_ID_y    0\n",
       "INFODT        0\n",
       "NP3TOT        0\n",
       "NP2PTOT       0\n",
       "NP1PTOT       0\n",
       "NP1RTOT       0\n",
       "UPDRSTOT      0\n",
       "ENROLL_AGE    0\n",
       "SEX           0\n",
       "dtype: int64"
      ]
     },
     "execution_count": 39,
     "metadata": {},
     "output_type": "execute_result"
    }
   ],
   "source": [
    "MOCA_DemoPDDX_UPDRS.isna().sum()"
   ]
  },
  {
   "cell_type": "code",
   "execution_count": 40,
   "id": "fbf1014c-129d-4789-adf4-3ec38cc4a38e",
   "metadata": {},
   "outputs": [
    {
     "data": {
      "text/plain": [
       "1036"
      ]
     },
     "execution_count": 40,
     "metadata": {},
     "output_type": "execute_result"
    }
   ],
   "source": [
    "MOCA_DemoPDDX_UPDRS['PATNO'].nunique()"
   ]
  },
  {
   "cell_type": "code",
   "execution_count": 41,
   "id": "229049b4-85ca-4db9-bd57-0e101c2429a5",
   "metadata": {},
   "outputs": [
    {
     "name": "stdout",
     "output_type": "stream",
     "text": [
      "Number of duplicate PATNO values: 0\n",
      "NaN values in each column:\n",
      "PATNO         0\n",
      "BIRTHDT       0\n",
      "HANDED        1\n",
      "PDDXDT        0\n",
      "AgePDDX       0\n",
      "EVENT_ID_x    0\n",
      "MCATOT        1\n",
      "EVENT_ID_y    0\n",
      "INFODT        0\n",
      "NP3TOT        0\n",
      "NP2PTOT       0\n",
      "NP1PTOT       0\n",
      "NP1RTOT       0\n",
      "UPDRSTOT      0\n",
      "ENROLL_AGE    0\n",
      "SEX           0\n",
      "dtype: int64\n",
      "Rows with NaN values:\n",
      "      PATNO    BIRTHDT  HANDED     PDDXDT  AgePDDX EVENT_ID_x  MCATOT  \\\n",
      "570   50157 1953-07-01     1.0 2012-03-01     58.0         SC     NaN   \n",
      "818  140041 1966-08-01     NaN 2019-12-01     53.0         SC    28.0   \n",
      "\n",
      "    EVENT_ID_y   INFODT  NP3TOT  NP2PTOT  NP1PTOT  NP1RTOT  UPDRSTOT  \\\n",
      "570         BL  10/2014    15.0      7.0     13.0      2.0      37.0   \n",
      "818         BL  03/2022    22.0      8.0     11.0      4.0      45.0   \n",
      "\n",
      "     ENROLL_AGE     SEX  \n",
      "570        61.2  female  \n",
      "818        56.1  female  \n"
     ]
    }
   ],
   "source": [
    "# Check for duplicate PATNO values\n",
    "duplicates = MOCA_DemoPDDX_UPDRS['PATNO'].duplicated().sum()\n",
    "print(f\"Number of duplicate PATNO values: {duplicates}\")\n",
    "\n",
    "# Check for NaN values in each column\n",
    "nan_summary = MOCA_DemoPDDX_UPDRS.isna().sum()\n",
    "print(\"NaN values in each column:\")\n",
    "print(nan_summary)\n",
    "\n",
    "# Display rows with NaN values (if any)\n",
    "nan_rows = MOCA_DemoPDDX_UPDRS[MOCA_DemoPDDX_UPDRS.isna().any(axis=1)]\n",
    "print(\"Rows with NaN values:\")\n",
    "print(nan_rows)"
   ]
  },
  {
   "cell_type": "code",
   "execution_count": 42,
   "id": "6b3a9f2f-15b5-4f60-9b1f-ce5cb0dd3d70",
   "metadata": {},
   "outputs": [
    {
     "data": {
      "text/plain": [
       "(1034, 16)"
      ]
     },
     "execution_count": 42,
     "metadata": {},
     "output_type": "execute_result"
    }
   ],
   "source": [
    "MOCA_DemoPDDX_UPDRS = MOCA_DemoPDDX_UPDRS.dropna()\n",
    "MOCA_DemoPDDX_UPDRS.shape"
   ]
  },
  {
   "cell_type": "code",
   "execution_count": 43,
   "id": "b8279065-6f2a-4d55-92bf-10e0355aae94",
   "metadata": {},
   "outputs": [
    {
     "data": {
      "text/html": [
       "<div>\n",
       "<style scoped>\n",
       "    .dataframe tbody tr th:only-of-type {\n",
       "        vertical-align: middle;\n",
       "    }\n",
       "\n",
       "    .dataframe tbody tr th {\n",
       "        vertical-align: top;\n",
       "    }\n",
       "\n",
       "    .dataframe thead th {\n",
       "        text-align: right;\n",
       "    }\n",
       "</style>\n",
       "<table border=\"1\" class=\"dataframe\">\n",
       "  <thead>\n",
       "    <tr style=\"text-align: right;\">\n",
       "      <th></th>\n",
       "      <th>PATNO</th>\n",
       "      <th>BIRTHDT</th>\n",
       "      <th>HANDED</th>\n",
       "      <th>PDDXDT</th>\n",
       "      <th>AgePDDX</th>\n",
       "      <th>EVENT_ID_x</th>\n",
       "      <th>MCATOT</th>\n",
       "      <th>EVENT_ID_y</th>\n",
       "      <th>INFODT</th>\n",
       "      <th>NP3TOT</th>\n",
       "      <th>NP2PTOT</th>\n",
       "      <th>NP1PTOT</th>\n",
       "      <th>NP1RTOT</th>\n",
       "      <th>UPDRSTOT</th>\n",
       "      <th>ENROLL_AGE</th>\n",
       "      <th>SEX</th>\n",
       "    </tr>\n",
       "  </thead>\n",
       "  <tbody>\n",
       "    <tr>\n",
       "      <th>0</th>\n",
       "      <td>3001</td>\n",
       "      <td>1946-01-01</td>\n",
       "      <td>2.0</td>\n",
       "      <td>2010-04-01</td>\n",
       "      <td>64.0</td>\n",
       "      <td>SC</td>\n",
       "      <td>29.0</td>\n",
       "      <td>BL</td>\n",
       "      <td>03/2011</td>\n",
       "      <td>12.0</td>\n",
       "      <td>2.0</td>\n",
       "      <td>8.0</td>\n",
       "      <td>0.0</td>\n",
       "      <td>22.0</td>\n",
       "      <td>65.1</td>\n",
       "      <td>male</td>\n",
       "    </tr>\n",
       "    <tr>\n",
       "      <th>1</th>\n",
       "      <td>3002</td>\n",
       "      <td>1943-08-01</td>\n",
       "      <td>1.0</td>\n",
       "      <td>2010-02-01</td>\n",
       "      <td>66.0</td>\n",
       "      <td>SC</td>\n",
       "      <td>29.0</td>\n",
       "      <td>BL</td>\n",
       "      <td>03/2011</td>\n",
       "      <td>17.0</td>\n",
       "      <td>15.0</td>\n",
       "      <td>5.0</td>\n",
       "      <td>3.0</td>\n",
       "      <td>40.0</td>\n",
       "      <td>67.6</td>\n",
       "      <td>female</td>\n",
       "    </tr>\n",
       "    <tr>\n",
       "      <th>2</th>\n",
       "      <td>3003</td>\n",
       "      <td>1954-07-01</td>\n",
       "      <td>1.0</td>\n",
       "      <td>2009-03-01</td>\n",
       "      <td>54.0</td>\n",
       "      <td>SC</td>\n",
       "      <td>25.0</td>\n",
       "      <td>BL</td>\n",
       "      <td>04/2011</td>\n",
       "      <td>29.0</td>\n",
       "      <td>6.0</td>\n",
       "      <td>11.0</td>\n",
       "      <td>1.0</td>\n",
       "      <td>47.0</td>\n",
       "      <td>56.7</td>\n",
       "      <td>female</td>\n",
       "    </tr>\n",
       "    <tr>\n",
       "      <th>3</th>\n",
       "      <td>3006</td>\n",
       "      <td>1953-10-01</td>\n",
       "      <td>1.0</td>\n",
       "      <td>2010-11-01</td>\n",
       "      <td>57.0</td>\n",
       "      <td>SC</td>\n",
       "      <td>27.0</td>\n",
       "      <td>BL</td>\n",
       "      <td>04/2011</td>\n",
       "      <td>22.0</td>\n",
       "      <td>4.0</td>\n",
       "      <td>2.0</td>\n",
       "      <td>1.0</td>\n",
       "      <td>29.0</td>\n",
       "      <td>57.5</td>\n",
       "      <td>female</td>\n",
       "    </tr>\n",
       "    <tr>\n",
       "      <th>4</th>\n",
       "      <td>3010</td>\n",
       "      <td>1964-06-01</td>\n",
       "      <td>3.0</td>\n",
       "      <td>2011-02-01</td>\n",
       "      <td>46.0</td>\n",
       "      <td>SC</td>\n",
       "      <td>26.0</td>\n",
       "      <td>BL</td>\n",
       "      <td>06/2011</td>\n",
       "      <td>19.0</td>\n",
       "      <td>11.0</td>\n",
       "      <td>9.0</td>\n",
       "      <td>2.0</td>\n",
       "      <td>41.0</td>\n",
       "      <td>47.0</td>\n",
       "      <td>male</td>\n",
       "    </tr>\n",
       "  </tbody>\n",
       "</table>\n",
       "</div>"
      ],
      "text/plain": [
       "   PATNO    BIRTHDT  HANDED     PDDXDT  AgePDDX EVENT_ID_x  MCATOT EVENT_ID_y  \\\n",
       "0   3001 1946-01-01     2.0 2010-04-01     64.0         SC    29.0         BL   \n",
       "1   3002 1943-08-01     1.0 2010-02-01     66.0         SC    29.0         BL   \n",
       "2   3003 1954-07-01     1.0 2009-03-01     54.0         SC    25.0         BL   \n",
       "3   3006 1953-10-01     1.0 2010-11-01     57.0         SC    27.0         BL   \n",
       "4   3010 1964-06-01     3.0 2011-02-01     46.0         SC    26.0         BL   \n",
       "\n",
       "    INFODT  NP3TOT  NP2PTOT  NP1PTOT  NP1RTOT  UPDRSTOT  ENROLL_AGE     SEX  \n",
       "0  03/2011    12.0      2.0      8.0      0.0      22.0        65.1    male  \n",
       "1  03/2011    17.0     15.0      5.0      3.0      40.0        67.6  female  \n",
       "2  04/2011    29.0      6.0     11.0      1.0      47.0        56.7  female  \n",
       "3  04/2011    22.0      4.0      2.0      1.0      29.0        57.5  female  \n",
       "4  06/2011    19.0     11.0      9.0      2.0      41.0        47.0    male  "
      ]
     },
     "execution_count": 43,
     "metadata": {},
     "output_type": "execute_result"
    }
   ],
   "source": [
    "MOCA_DemoPDDX_UPDRS.head(5)"
   ]
  },
  {
   "cell_type": "code",
   "execution_count": 44,
   "id": "e5d24910-0ca7-4966-a03d-fd5d2c3ff15c",
   "metadata": {},
   "outputs": [],
   "source": [
    "# Rename 'EVENT_ID_y' to 'EVENT_ID'\n",
    "MOCA_DemoPDDX_UPDRS = MOCA_DemoPDDX_UPDRS.rename(columns={'EVENT_ID_y': 'EVENT_ID'})\n",
    "\n",
    "# Define the desired column order, now including 'EVENT_ID'\n",
    "desired_order = [\n",
    "    'PATNO', 'EVENT_ID', 'INFODT', 'BIRTHDT', 'SEX', 'HANDED', 'PDDXDT', \n",
    "    'AgePDDX', 'ENROLL_AGE', 'MCATOT', 'NP3TOT', 'NP2PTOT', \n",
    "    'NP1PTOT', 'NP1RTOT', 'UPDRSTOT'\n",
    "]\n",
    "\n",
    "# Reorder columns\n",
    "MOCA_DemoPDDX_UPDRS = MOCA_DemoPDDX_UPDRS[desired_order]"
   ]
  },
  {
   "cell_type": "code",
   "execution_count": 45,
   "id": "09afc252-653b-42f2-b70c-87f07d25fd21",
   "metadata": {},
   "outputs": [
    {
     "data": {
      "text/html": [
       "<div>\n",
       "<style scoped>\n",
       "    .dataframe tbody tr th:only-of-type {\n",
       "        vertical-align: middle;\n",
       "    }\n",
       "\n",
       "    .dataframe tbody tr th {\n",
       "        vertical-align: top;\n",
       "    }\n",
       "\n",
       "    .dataframe thead th {\n",
       "        text-align: right;\n",
       "    }\n",
       "</style>\n",
       "<table border=\"1\" class=\"dataframe\">\n",
       "  <thead>\n",
       "    <tr style=\"text-align: right;\">\n",
       "      <th></th>\n",
       "      <th>PATNO</th>\n",
       "      <th>EVENT_ID</th>\n",
       "      <th>INFODT</th>\n",
       "      <th>BIRTHDT</th>\n",
       "      <th>SEX</th>\n",
       "      <th>HANDED</th>\n",
       "      <th>PDDXDT</th>\n",
       "      <th>AgePDDX</th>\n",
       "      <th>ENROLL_AGE</th>\n",
       "      <th>MCATOT</th>\n",
       "      <th>NP3TOT</th>\n",
       "      <th>NP2PTOT</th>\n",
       "      <th>NP1PTOT</th>\n",
       "      <th>NP1RTOT</th>\n",
       "      <th>UPDRSTOT</th>\n",
       "      <th>PDTIME(Days)</th>\n",
       "    </tr>\n",
       "  </thead>\n",
       "  <tbody>\n",
       "    <tr>\n",
       "      <th>0</th>\n",
       "      <td>3001</td>\n",
       "      <td>BL</td>\n",
       "      <td>2011-03-01</td>\n",
       "      <td>1946-01-01</td>\n",
       "      <td>male</td>\n",
       "      <td>2.0</td>\n",
       "      <td>2010-04-01</td>\n",
       "      <td>64.0</td>\n",
       "      <td>65.1</td>\n",
       "      <td>29.0</td>\n",
       "      <td>12.0</td>\n",
       "      <td>2.0</td>\n",
       "      <td>8.0</td>\n",
       "      <td>0.0</td>\n",
       "      <td>22.0</td>\n",
       "      <td>334</td>\n",
       "    </tr>\n",
       "    <tr>\n",
       "      <th>1</th>\n",
       "      <td>3002</td>\n",
       "      <td>BL</td>\n",
       "      <td>2011-03-01</td>\n",
       "      <td>1943-08-01</td>\n",
       "      <td>female</td>\n",
       "      <td>1.0</td>\n",
       "      <td>2010-02-01</td>\n",
       "      <td>66.0</td>\n",
       "      <td>67.6</td>\n",
       "      <td>29.0</td>\n",
       "      <td>17.0</td>\n",
       "      <td>15.0</td>\n",
       "      <td>5.0</td>\n",
       "      <td>3.0</td>\n",
       "      <td>40.0</td>\n",
       "      <td>393</td>\n",
       "    </tr>\n",
       "    <tr>\n",
       "      <th>2</th>\n",
       "      <td>3003</td>\n",
       "      <td>BL</td>\n",
       "      <td>2011-04-01</td>\n",
       "      <td>1954-07-01</td>\n",
       "      <td>female</td>\n",
       "      <td>1.0</td>\n",
       "      <td>2009-03-01</td>\n",
       "      <td>54.0</td>\n",
       "      <td>56.7</td>\n",
       "      <td>25.0</td>\n",
       "      <td>29.0</td>\n",
       "      <td>6.0</td>\n",
       "      <td>11.0</td>\n",
       "      <td>1.0</td>\n",
       "      <td>47.0</td>\n",
       "      <td>761</td>\n",
       "    </tr>\n",
       "    <tr>\n",
       "      <th>3</th>\n",
       "      <td>3006</td>\n",
       "      <td>BL</td>\n",
       "      <td>2011-04-01</td>\n",
       "      <td>1953-10-01</td>\n",
       "      <td>female</td>\n",
       "      <td>1.0</td>\n",
       "      <td>2010-11-01</td>\n",
       "      <td>57.0</td>\n",
       "      <td>57.5</td>\n",
       "      <td>27.0</td>\n",
       "      <td>22.0</td>\n",
       "      <td>4.0</td>\n",
       "      <td>2.0</td>\n",
       "      <td>1.0</td>\n",
       "      <td>29.0</td>\n",
       "      <td>151</td>\n",
       "    </tr>\n",
       "    <tr>\n",
       "      <th>4</th>\n",
       "      <td>3010</td>\n",
       "      <td>BL</td>\n",
       "      <td>2011-06-01</td>\n",
       "      <td>1964-06-01</td>\n",
       "      <td>male</td>\n",
       "      <td>3.0</td>\n",
       "      <td>2011-02-01</td>\n",
       "      <td>46.0</td>\n",
       "      <td>47.0</td>\n",
       "      <td>26.0</td>\n",
       "      <td>19.0</td>\n",
       "      <td>11.0</td>\n",
       "      <td>9.0</td>\n",
       "      <td>2.0</td>\n",
       "      <td>41.0</td>\n",
       "      <td>120</td>\n",
       "    </tr>\n",
       "  </tbody>\n",
       "</table>\n",
       "</div>"
      ],
      "text/plain": [
       "   PATNO EVENT_ID     INFODT    BIRTHDT     SEX  HANDED     PDDXDT  AgePDDX  \\\n",
       "0   3001       BL 2011-03-01 1946-01-01    male     2.0 2010-04-01     64.0   \n",
       "1   3002       BL 2011-03-01 1943-08-01  female     1.0 2010-02-01     66.0   \n",
       "2   3003       BL 2011-04-01 1954-07-01  female     1.0 2009-03-01     54.0   \n",
       "3   3006       BL 2011-04-01 1953-10-01  female     1.0 2010-11-01     57.0   \n",
       "4   3010       BL 2011-06-01 1964-06-01    male     3.0 2011-02-01     46.0   \n",
       "\n",
       "   ENROLL_AGE  MCATOT  NP3TOT  NP2PTOT  NP1PTOT  NP1RTOT  UPDRSTOT  \\\n",
       "0        65.1    29.0    12.0      2.0      8.0      0.0      22.0   \n",
       "1        67.6    29.0    17.0     15.0      5.0      3.0      40.0   \n",
       "2        56.7    25.0    29.0      6.0     11.0      1.0      47.0   \n",
       "3        57.5    27.0    22.0      4.0      2.0      1.0      29.0   \n",
       "4        47.0    26.0    19.0     11.0      9.0      2.0      41.0   \n",
       "\n",
       "   PDTIME(Days)  \n",
       "0           334  \n",
       "1           393  \n",
       "2           761  \n",
       "3           151  \n",
       "4           120  "
      ]
     },
     "execution_count": 45,
     "metadata": {},
     "output_type": "execute_result"
    }
   ],
   "source": [
    "# Ensure that 'PDDXDT' and 'INFODT' are in datetime format\n",
    "MOCA_DemoPDDX_UPDRS['PDDXDT'] = pd.to_datetime(MOCA_DemoPDDX_UPDRS['PDDXDT'], format='%m/%Y')\n",
    "MOCA_DemoPDDX_UPDRS['INFODT'] = pd.to_datetime(MOCA_DemoPDDX_UPDRS['INFODT'], format='%m/%Y')\n",
    "\n",
    "# Subtract 'PDDXDT' from 'INFODT' to calculate the time difference in days\n",
    "MOCA_DemoPDDX_UPDRS['PDTIME(Days)'] = (MOCA_DemoPDDX_UPDRS['INFODT'] - MOCA_DemoPDDX_UPDRS['PDDXDT']).dt.days\n",
    "\n",
    "MOCA_DemoPDDX_UPDRS.head()"
   ]
  },
  {
   "cell_type": "code",
   "execution_count": 46,
   "id": "c4b5b3c7-fa8b-4ed0-9e80-232875fc3a76",
   "metadata": {},
   "outputs": [],
   "source": [
    "# Define the desired column order, now including 'EVENT_ID'\n",
    "desired_order = [\n",
    "    'PATNO', 'EVENT_ID', 'INFODT', 'BIRTHDT', 'SEX', 'HANDED', 'PDDXDT', \n",
    "    'AgePDDX', 'ENROLL_AGE', 'PDTIME(Days)', 'MCATOT', 'NP3TOT', 'NP2PTOT', \n",
    "    'NP1PTOT', 'NP1RTOT', 'UPDRSTOT'\n",
    "]\n",
    "\n",
    "# Reorder columns\n",
    "MOCA_DemoPDDX_UPDRS = MOCA_DemoPDDX_UPDRS[desired_order]"
   ]
  },
  {
   "cell_type": "code",
   "execution_count": 47,
   "id": "00e96abe-c922-468f-b5db-9dcdc440c414",
   "metadata": {},
   "outputs": [
    {
     "data": {
      "text/html": [
       "<div>\n",
       "<style scoped>\n",
       "    .dataframe tbody tr th:only-of-type {\n",
       "        vertical-align: middle;\n",
       "    }\n",
       "\n",
       "    .dataframe tbody tr th {\n",
       "        vertical-align: top;\n",
       "    }\n",
       "\n",
       "    .dataframe thead th {\n",
       "        text-align: right;\n",
       "    }\n",
       "</style>\n",
       "<table border=\"1\" class=\"dataframe\">\n",
       "  <thead>\n",
       "    <tr style=\"text-align: right;\">\n",
       "      <th></th>\n",
       "      <th>PATNO</th>\n",
       "      <th>EVENT_ID</th>\n",
       "      <th>INFODT</th>\n",
       "      <th>BIRTHDT</th>\n",
       "      <th>SEX</th>\n",
       "      <th>HANDED</th>\n",
       "      <th>PDDXDT</th>\n",
       "      <th>AgePDDX</th>\n",
       "      <th>ENROLL_AGE</th>\n",
       "      <th>PDTIME(Days)</th>\n",
       "      <th>MCATOT</th>\n",
       "      <th>NP3TOT</th>\n",
       "      <th>NP2PTOT</th>\n",
       "      <th>NP1PTOT</th>\n",
       "      <th>NP1RTOT</th>\n",
       "      <th>UPDRSTOT</th>\n",
       "    </tr>\n",
       "  </thead>\n",
       "  <tbody>\n",
       "    <tr>\n",
       "      <th>0</th>\n",
       "      <td>3001</td>\n",
       "      <td>BL</td>\n",
       "      <td>2011-03-01</td>\n",
       "      <td>1946-01-01</td>\n",
       "      <td>male</td>\n",
       "      <td>2.0</td>\n",
       "      <td>2010-04-01</td>\n",
       "      <td>64.0</td>\n",
       "      <td>65.1</td>\n",
       "      <td>334</td>\n",
       "      <td>29.0</td>\n",
       "      <td>12.0</td>\n",
       "      <td>2.0</td>\n",
       "      <td>8.0</td>\n",
       "      <td>0.0</td>\n",
       "      <td>22.0</td>\n",
       "    </tr>\n",
       "    <tr>\n",
       "      <th>1</th>\n",
       "      <td>3002</td>\n",
       "      <td>BL</td>\n",
       "      <td>2011-03-01</td>\n",
       "      <td>1943-08-01</td>\n",
       "      <td>female</td>\n",
       "      <td>1.0</td>\n",
       "      <td>2010-02-01</td>\n",
       "      <td>66.0</td>\n",
       "      <td>67.6</td>\n",
       "      <td>393</td>\n",
       "      <td>29.0</td>\n",
       "      <td>17.0</td>\n",
       "      <td>15.0</td>\n",
       "      <td>5.0</td>\n",
       "      <td>3.0</td>\n",
       "      <td>40.0</td>\n",
       "    </tr>\n",
       "    <tr>\n",
       "      <th>2</th>\n",
       "      <td>3003</td>\n",
       "      <td>BL</td>\n",
       "      <td>2011-04-01</td>\n",
       "      <td>1954-07-01</td>\n",
       "      <td>female</td>\n",
       "      <td>1.0</td>\n",
       "      <td>2009-03-01</td>\n",
       "      <td>54.0</td>\n",
       "      <td>56.7</td>\n",
       "      <td>761</td>\n",
       "      <td>25.0</td>\n",
       "      <td>29.0</td>\n",
       "      <td>6.0</td>\n",
       "      <td>11.0</td>\n",
       "      <td>1.0</td>\n",
       "      <td>47.0</td>\n",
       "    </tr>\n",
       "    <tr>\n",
       "      <th>3</th>\n",
       "      <td>3006</td>\n",
       "      <td>BL</td>\n",
       "      <td>2011-04-01</td>\n",
       "      <td>1953-10-01</td>\n",
       "      <td>female</td>\n",
       "      <td>1.0</td>\n",
       "      <td>2010-11-01</td>\n",
       "      <td>57.0</td>\n",
       "      <td>57.5</td>\n",
       "      <td>151</td>\n",
       "      <td>27.0</td>\n",
       "      <td>22.0</td>\n",
       "      <td>4.0</td>\n",
       "      <td>2.0</td>\n",
       "      <td>1.0</td>\n",
       "      <td>29.0</td>\n",
       "    </tr>\n",
       "    <tr>\n",
       "      <th>4</th>\n",
       "      <td>3010</td>\n",
       "      <td>BL</td>\n",
       "      <td>2011-06-01</td>\n",
       "      <td>1964-06-01</td>\n",
       "      <td>male</td>\n",
       "      <td>3.0</td>\n",
       "      <td>2011-02-01</td>\n",
       "      <td>46.0</td>\n",
       "      <td>47.0</td>\n",
       "      <td>120</td>\n",
       "      <td>26.0</td>\n",
       "      <td>19.0</td>\n",
       "      <td>11.0</td>\n",
       "      <td>9.0</td>\n",
       "      <td>2.0</td>\n",
       "      <td>41.0</td>\n",
       "    </tr>\n",
       "  </tbody>\n",
       "</table>\n",
       "</div>"
      ],
      "text/plain": [
       "   PATNO EVENT_ID     INFODT    BIRTHDT     SEX  HANDED     PDDXDT  AgePDDX  \\\n",
       "0   3001       BL 2011-03-01 1946-01-01    male     2.0 2010-04-01     64.0   \n",
       "1   3002       BL 2011-03-01 1943-08-01  female     1.0 2010-02-01     66.0   \n",
       "2   3003       BL 2011-04-01 1954-07-01  female     1.0 2009-03-01     54.0   \n",
       "3   3006       BL 2011-04-01 1953-10-01  female     1.0 2010-11-01     57.0   \n",
       "4   3010       BL 2011-06-01 1964-06-01    male     3.0 2011-02-01     46.0   \n",
       "\n",
       "   ENROLL_AGE  PDTIME(Days)  MCATOT  NP3TOT  NP2PTOT  NP1PTOT  NP1RTOT  \\\n",
       "0        65.1           334    29.0    12.0      2.0      8.0      0.0   \n",
       "1        67.6           393    29.0    17.0     15.0      5.0      3.0   \n",
       "2        56.7           761    25.0    29.0      6.0     11.0      1.0   \n",
       "3        57.5           151    27.0    22.0      4.0      2.0      1.0   \n",
       "4        47.0           120    26.0    19.0     11.0      9.0      2.0   \n",
       "\n",
       "   UPDRSTOT  \n",
       "0      22.0  \n",
       "1      40.0  \n",
       "2      47.0  \n",
       "3      29.0  \n",
       "4      41.0  "
      ]
     },
     "execution_count": 47,
     "metadata": {},
     "output_type": "execute_result"
    }
   ],
   "source": [
    "MOCA_DemoPDDX_UPDRS.head()"
   ]
  },
  {
   "cell_type": "code",
   "execution_count": 48,
   "id": "e98f127c-8db8-4081-a720-3ba6cc95a651",
   "metadata": {},
   "outputs": [
    {
     "name": "stdout",
     "output_type": "stream",
     "text": [
      "This is the final PD at baseline dataset for further propensity matching\n",
      "DataFrame saved to C:\\Users\\Admin\\Downloads\\ParkinsonsDisease_NeuromodulationResearch\\PPMI_PDBL_MOCA_DemoPDDX_UPDRS_4PropensityM.csv\n"
     ]
    }
   ],
   "source": [
    "file_path = r\"C:\\Users\\Admin\\Downloads\\ParkinsonsDisease_NeuromodulationResearch\\PPMI_PDBL_MOCA_DemoPDDX_UPDRS_4PropensityM.csv\"\n",
    "\n",
    "# Save the DataFrame to a CSV file\n",
    "MOCA_DemoPDDX_UPDRS.to_csv(file_path, index=False)\n",
    "\n",
    "\n",
    "print(\"This is the final PD at baseline dataset for further propensity matching\")\n",
    "MOCA_DemoPDDX_UPDRS.head(10)\n",
    "print(f\"DataFrame saved to {file_path}\")"
   ]
  },
  {
   "cell_type": "markdown",
   "id": "0e84fed2-3fd0-4790-8301-e337560a6c4f",
   "metadata": {},
   "source": [
    "## Propensity Matching"
   ]
  },
  {
   "cell_type": "markdown",
   "id": "bbb46255-98d4-4438-92a4-096538b51d10",
   "metadata": {},
   "source": [
    "### File 1 Preparation"
   ]
  },
  {
   "cell_type": "code",
   "execution_count": 49,
   "id": "ce9b44a2-e8cc-44c2-b84d-3a9d19873bb6",
   "metadata": {},
   "outputs": [],
   "source": [
    "file_path = r\"C:\\Users\\Admin\\Downloads\\ParkinsonsDisease_NeuromodulationResearch\\PD_DataForPDbaseline4PropMatch\\OurPDDataforPM.xlsx\"\n",
    "excel_data = pd.read_excel(file_path)"
   ]
  },
  {
   "cell_type": "code",
   "execution_count": 50,
   "id": "377c851f-2a63-467c-90eb-788e1515ab4a",
   "metadata": {},
   "outputs": [
    {
     "data": {
      "text/html": [
       "<div>\n",
       "<style scoped>\n",
       "    .dataframe tbody tr th:only-of-type {\n",
       "        vertical-align: middle;\n",
       "    }\n",
       "\n",
       "    .dataframe tbody tr th {\n",
       "        vertical-align: top;\n",
       "    }\n",
       "\n",
       "    .dataframe thead th {\n",
       "        text-align: right;\n",
       "    }\n",
       "</style>\n",
       "<table border=\"1\" class=\"dataframe\">\n",
       "  <thead>\n",
       "    <tr style=\"text-align: right;\">\n",
       "      <th></th>\n",
       "      <th>patid</th>\n",
       "      <th>Improver(1) - Decliner (0)</th>\n",
       "      <th>MoCA_PRE</th>\n",
       "      <th>MDS-UPDRS_3_ONLY_Gesamt</th>\n",
       "      <th>EVENT_TAG</th>\n",
       "      <th>MEDICATION</th>\n",
       "      <th>STIMULATION</th>\n",
       "      <th>MoCA_POST</th>\n",
       "      <th>SEX</th>\n",
       "      <th>DISEASE_DURATION_AT_OP</th>\n",
       "      <th>AGE_AT_DIAGNOSIS</th>\n",
       "      <th>AGE_AT_OP</th>\n",
       "      <th>surgeryday</th>\n",
       "    </tr>\n",
       "  </thead>\n",
       "  <tbody>\n",
       "    <tr>\n",
       "      <th>336</th>\n",
       "      <td>2018-PD1</td>\n",
       "      <td>NaN</td>\n",
       "      <td>NaN</td>\n",
       "      <td>29.0</td>\n",
       "      <td>BL</td>\n",
       "      <td>OFF</td>\n",
       "      <td>OFF</td>\n",
       "      <td>NaN</td>\n",
       "      <td>M</td>\n",
       "      <td>8.087611</td>\n",
       "      <td>41.864476</td>\n",
       "      <td>49.952088</td>\n",
       "      <td>2018-02-02</td>\n",
       "    </tr>\n",
       "    <tr>\n",
       "      <th>341</th>\n",
       "      <td>2018-PD10</td>\n",
       "      <td>1.0</td>\n",
       "      <td>28.0</td>\n",
       "      <td>28.0</td>\n",
       "      <td>BL</td>\n",
       "      <td>OFF</td>\n",
       "      <td>OFF</td>\n",
       "      <td>30.0</td>\n",
       "      <td>M</td>\n",
       "      <td>5.144422</td>\n",
       "      <td>45.418207</td>\n",
       "      <td>50.562628</td>\n",
       "      <td>2018-02-23</td>\n",
       "    </tr>\n",
       "    <tr>\n",
       "      <th>348</th>\n",
       "      <td>2018-PD11</td>\n",
       "      <td>NaN</td>\n",
       "      <td>28.0</td>\n",
       "      <td>70.0</td>\n",
       "      <td>BL</td>\n",
       "      <td>OFF</td>\n",
       "      <td>OFF</td>\n",
       "      <td>28.0</td>\n",
       "      <td>M</td>\n",
       "      <td>7.192334</td>\n",
       "      <td>61.664613</td>\n",
       "      <td>68.856947</td>\n",
       "      <td>2018-03-12</td>\n",
       "    </tr>\n",
       "    <tr>\n",
       "      <th>356</th>\n",
       "      <td>2018-PD3</td>\n",
       "      <td>1.0</td>\n",
       "      <td>29.0</td>\n",
       "      <td>57.0</td>\n",
       "      <td>BL</td>\n",
       "      <td>OFF</td>\n",
       "      <td>OFF</td>\n",
       "      <td>30.0</td>\n",
       "      <td>M</td>\n",
       "      <td>7.260780</td>\n",
       "      <td>54.151951</td>\n",
       "      <td>61.412731</td>\n",
       "      <td>2018-04-06</td>\n",
       "    </tr>\n",
       "    <tr>\n",
       "      <th>364</th>\n",
       "      <td>2018-PD4</td>\n",
       "      <td>NaN</td>\n",
       "      <td>NaN</td>\n",
       "      <td>35.0</td>\n",
       "      <td>BL</td>\n",
       "      <td>OFF</td>\n",
       "      <td>OFF</td>\n",
       "      <td>NaN</td>\n",
       "      <td>M</td>\n",
       "      <td>10.280630</td>\n",
       "      <td>40.558522</td>\n",
       "      <td>50.839151</td>\n",
       "      <td>2018-04-13</td>\n",
       "    </tr>\n",
       "  </tbody>\n",
       "</table>\n",
       "</div>"
      ],
      "text/plain": [
       "         patid  Improver(1) - Decliner (0)  MoCA_PRE  MDS-UPDRS_3_ONLY_Gesamt  \\\n",
       "336   2018-PD1                         NaN       NaN                     29.0   \n",
       "341  2018-PD10                         1.0      28.0                     28.0   \n",
       "348  2018-PD11                         NaN      28.0                     70.0   \n",
       "356   2018-PD3                         1.0      29.0                     57.0   \n",
       "364   2018-PD4                         NaN       NaN                     35.0   \n",
       "\n",
       "    EVENT_TAG MEDICATION STIMULATION  MoCA_POST SEX  DISEASE_DURATION_AT_OP  \\\n",
       "336        BL        OFF         OFF        NaN   M                8.087611   \n",
       "341        BL        OFF         OFF       30.0   M                5.144422   \n",
       "348        BL        OFF         OFF       28.0   M                7.192334   \n",
       "356        BL        OFF         OFF       30.0   M                7.260780   \n",
       "364        BL        OFF         OFF        NaN   M               10.280630   \n",
       "\n",
       "     AGE_AT_DIAGNOSIS  AGE_AT_OP surgeryday  \n",
       "336         41.864476  49.952088 2018-02-02  \n",
       "341         45.418207  50.562628 2018-02-23  \n",
       "348         61.664613  68.856947 2018-03-12  \n",
       "356         54.151951  61.412731 2018-04-06  \n",
       "364         40.558522  50.839151 2018-04-13  "
      ]
     },
     "execution_count": 50,
     "metadata": {},
     "output_type": "execute_result"
    }
   ],
   "source": [
    "# Filter rows where EVENT_TAG is \"BL\" and MEDICATION is \"OFF\"\n",
    "filtered_data = excel_data[(excel_data['EVENT_TAG'] == 'BL') & (excel_data['MEDICATION'] == 'OFF')]\n",
    "filtered_data.head()"
   ]
  },
  {
   "cell_type": "code",
   "execution_count": 51,
   "id": "52828c21-ed78-4f47-aa22-3d68868cf705",
   "metadata": {},
   "outputs": [
    {
     "data": {
      "text/html": [
       "<div>\n",
       "<style scoped>\n",
       "    .dataframe tbody tr th:only-of-type {\n",
       "        vertical-align: middle;\n",
       "    }\n",
       "\n",
       "    .dataframe tbody tr th {\n",
       "        vertical-align: top;\n",
       "    }\n",
       "\n",
       "    .dataframe thead th {\n",
       "        text-align: right;\n",
       "    }\n",
       "</style>\n",
       "<table border=\"1\" class=\"dataframe\">\n",
       "  <thead>\n",
       "    <tr style=\"text-align: right;\">\n",
       "      <th></th>\n",
       "      <th>MCATOT</th>\n",
       "      <th>NP3TOT</th>\n",
       "      <th>PDTIME(Years)</th>\n",
       "      <th>AgePDDX</th>\n",
       "      <th>SEX</th>\n",
       "    </tr>\n",
       "  </thead>\n",
       "  <tbody>\n",
       "    <tr>\n",
       "      <th>336</th>\n",
       "      <td>NaN</td>\n",
       "      <td>29.0</td>\n",
       "      <td>8.087611</td>\n",
       "      <td>41.864476</td>\n",
       "      <td>M</td>\n",
       "    </tr>\n",
       "    <tr>\n",
       "      <th>341</th>\n",
       "      <td>28.0</td>\n",
       "      <td>28.0</td>\n",
       "      <td>5.144422</td>\n",
       "      <td>45.418207</td>\n",
       "      <td>M</td>\n",
       "    </tr>\n",
       "    <tr>\n",
       "      <th>348</th>\n",
       "      <td>28.0</td>\n",
       "      <td>70.0</td>\n",
       "      <td>7.192334</td>\n",
       "      <td>61.664613</td>\n",
       "      <td>M</td>\n",
       "    </tr>\n",
       "    <tr>\n",
       "      <th>356</th>\n",
       "      <td>29.0</td>\n",
       "      <td>57.0</td>\n",
       "      <td>7.260780</td>\n",
       "      <td>54.151951</td>\n",
       "      <td>M</td>\n",
       "    </tr>\n",
       "    <tr>\n",
       "      <th>364</th>\n",
       "      <td>NaN</td>\n",
       "      <td>35.0</td>\n",
       "      <td>10.280630</td>\n",
       "      <td>40.558522</td>\n",
       "      <td>M</td>\n",
       "    </tr>\n",
       "  </tbody>\n",
       "</table>\n",
       "</div>"
      ],
      "text/plain": [
       "     MCATOT  NP3TOT  PDTIME(Years)    AgePDDX SEX\n",
       "336     NaN    29.0       8.087611  41.864476   M\n",
       "341    28.0    28.0       5.144422  45.418207   M\n",
       "348    28.0    70.0       7.192334  61.664613   M\n",
       "356    29.0    57.0       7.260780  54.151951   M\n",
       "364     NaN    35.0      10.280630  40.558522   M"
      ]
     },
     "execution_count": 51,
     "metadata": {},
     "output_type": "execute_result"
    }
   ],
   "source": [
    "# Define the column rename mapping\n",
    "column_rename_mapping = {\n",
    "    'MoCA_PRE': 'MCATOT',\n",
    "    'MDS-UPDRS_3_ONLY_Gesamt': 'NP3TOT',\n",
    "    'DISEASE_DURATION_AT_OP': 'PDTIME(Years)',\n",
    "    'AGE_AT_DIAGNOSIS': 'AgePDDX',\n",
    "    'SEX': 'SEX'   \n",
    "}\n",
    "\n",
    "# Rename the columns using the rename method\n",
    "OurPDDataforPM = filtered_data.rename(columns=column_rename_mapping)\n",
    "\n",
    "# Exclude remaining columns that are not in the column_rename_mapping\n",
    "# Get the list of new column names from the rename mapping\n",
    "new_columns = list(column_rename_mapping.values())\n",
    "\n",
    "# Keep only the columns that are in the new column names list\n",
    "OurPDDataforPM_W_MatV_Only = OurPDDataforPM[new_columns]\n",
    "\n",
    "OurPDDataforPM_W_MatV_Only.head()"
   ]
  },
  {
   "cell_type": "code",
   "execution_count": 52,
   "id": "d27786dd-9c29-4fab-af9d-1885c4e82d98",
   "metadata": {},
   "outputs": [
    {
     "data": {
      "text/plain": [
       "patid                          7\n",
       "Improver(1) - Decliner (0)    47\n",
       "MCATOT                        36\n",
       "NP3TOT                         0\n",
       "EVENT_TAG                      0\n",
       "MEDICATION                     0\n",
       "STIMULATION                    0\n",
       "MoCA_POST                     36\n",
       "SEX                            0\n",
       "PDTIME(Years)                  0\n",
       "AgePDDX                        0\n",
       "AGE_AT_OP                      0\n",
       "surgeryday                     0\n",
       "dtype: int64"
      ]
     },
     "execution_count": 52,
     "metadata": {},
     "output_type": "execute_result"
    }
   ],
   "source": [
    "OurPDDataforPM.isna().sum()"
   ]
  },
  {
   "cell_type": "code",
   "execution_count": 53,
   "id": "fa489842-8f41-4f4f-b956-9ac76fc6c7b4",
   "metadata": {},
   "outputs": [],
   "source": [
    "OurPDDataforPM_W_MatV_Only_nandropped = OurPDDataforPM_W_MatV_Only.dropna()"
   ]
  },
  {
   "cell_type": "code",
   "execution_count": 54,
   "id": "bfdb9f3d-9a03-4181-8f17-d2f593aec94a",
   "metadata": {},
   "outputs": [
    {
     "data": {
      "text/plain": [
       "MCATOT           0\n",
       "NP3TOT           0\n",
       "PDTIME(Years)    0\n",
       "AgePDDX          0\n",
       "SEX              0\n",
       "dtype: int64"
      ]
     },
     "execution_count": 54,
     "metadata": {},
     "output_type": "execute_result"
    }
   ],
   "source": [
    "OurPDDataforPM_W_MatV_Only_nandropped.isna().sum()"
   ]
  },
  {
   "cell_type": "code",
   "execution_count": 55,
   "id": "75651576-2e9b-437f-af2a-7d36ef305d33",
   "metadata": {},
   "outputs": [
    {
     "data": {
      "text/plain": [
       "(73, 5)"
      ]
     },
     "execution_count": 55,
     "metadata": {},
     "output_type": "execute_result"
    }
   ],
   "source": [
    "OurPDDataforPM_W_MatV_Only_nandropped.shape"
   ]
  },
  {
   "cell_type": "markdown",
   "id": "d283e83b-e423-4738-b6b2-42ecabb124c9",
   "metadata": {
    "tags": []
   },
   "source": [
    "### File 2 Preparation"
   ]
  },
  {
   "cell_type": "code",
   "execution_count": 56,
   "id": "83437586-ae65-446d-815f-401341b11a5d",
   "metadata": {},
   "outputs": [
    {
     "data": {
      "text/html": [
       "<div>\n",
       "<style scoped>\n",
       "    .dataframe tbody tr th:only-of-type {\n",
       "        vertical-align: middle;\n",
       "    }\n",
       "\n",
       "    .dataframe tbody tr th {\n",
       "        vertical-align: top;\n",
       "    }\n",
       "\n",
       "    .dataframe thead th {\n",
       "        text-align: right;\n",
       "    }\n",
       "</style>\n",
       "<table border=\"1\" class=\"dataframe\">\n",
       "  <thead>\n",
       "    <tr style=\"text-align: right;\">\n",
       "      <th></th>\n",
       "      <th>MCATOT</th>\n",
       "      <th>NP3TOT</th>\n",
       "      <th>PDTIME(Years)</th>\n",
       "      <th>AgePDDX</th>\n",
       "      <th>SEX</th>\n",
       "    </tr>\n",
       "  </thead>\n",
       "  <tbody>\n",
       "    <tr>\n",
       "      <th>0</th>\n",
       "      <td>29.0</td>\n",
       "      <td>12.0</td>\n",
       "      <td>0.915068</td>\n",
       "      <td>64.0</td>\n",
       "      <td>M</td>\n",
       "    </tr>\n",
       "    <tr>\n",
       "      <th>1</th>\n",
       "      <td>29.0</td>\n",
       "      <td>17.0</td>\n",
       "      <td>1.076712</td>\n",
       "      <td>66.0</td>\n",
       "      <td>F</td>\n",
       "    </tr>\n",
       "    <tr>\n",
       "      <th>2</th>\n",
       "      <td>25.0</td>\n",
       "      <td>29.0</td>\n",
       "      <td>2.084932</td>\n",
       "      <td>54.0</td>\n",
       "      <td>F</td>\n",
       "    </tr>\n",
       "    <tr>\n",
       "      <th>3</th>\n",
       "      <td>27.0</td>\n",
       "      <td>22.0</td>\n",
       "      <td>0.413699</td>\n",
       "      <td>57.0</td>\n",
       "      <td>F</td>\n",
       "    </tr>\n",
       "    <tr>\n",
       "      <th>4</th>\n",
       "      <td>26.0</td>\n",
       "      <td>19.0</td>\n",
       "      <td>0.328767</td>\n",
       "      <td>46.0</td>\n",
       "      <td>M</td>\n",
       "    </tr>\n",
       "  </tbody>\n",
       "</table>\n",
       "</div>"
      ],
      "text/plain": [
       "   MCATOT  NP3TOT  PDTIME(Years)  AgePDDX SEX\n",
       "0    29.0    12.0       0.915068     64.0   M\n",
       "1    29.0    17.0       1.076712     66.0   F\n",
       "2    25.0    29.0       2.084932     54.0   F\n",
       "3    27.0    22.0       0.413699     57.0   F\n",
       "4    26.0    19.0       0.328767     46.0   M"
      ]
     },
     "execution_count": 56,
     "metadata": {},
     "output_type": "execute_result"
    }
   ],
   "source": [
    "# Define the mapping for replacing values in the 'SEX' column\n",
    "sex_mapping = {\n",
    "    'male': 'M',\n",
    "    'female': 'F'\n",
    "}\n",
    "\n",
    "# Replace values in the 'SEX' column using the mapping\n",
    "MOCA_DemoPDDX_UPDRS['SEX'] = MOCA_DemoPDDX_UPDRS['SEX'].replace(sex_mapping)\n",
    "\n",
    "# Rename the column\n",
    "MOCA_DemoPDDX_UPDRS = MOCA_DemoPDDX_UPDRS.rename(columns={'PDTIME(Days)': 'PDTIME(Years)'})\n",
    "\n",
    "# Convert the values from days to years\n",
    "MOCA_DemoPDDX_UPDRS['PDTIME(Years)'] = MOCA_DemoPDDX_UPDRS['PDTIME(Years)'] / 365\n",
    "\n",
    "# Keep only the columns that are in the new column names list\n",
    "MOCA_DemoPDDX_UPDRS_W_MatV_Only = MOCA_DemoPDDX_UPDRS[new_columns]\n",
    "\n",
    "MOCA_DemoPDDX_UPDRS_W_MatV_Only.head()"
   ]
  },
  {
   "cell_type": "code",
   "execution_count": 57,
   "id": "e0a7b8eb-3015-4c32-858a-2286b41512cb",
   "metadata": {},
   "outputs": [],
   "source": [
    "# Ensure both datasets have the matching variables\n",
    "matching_vars = ['NP3TOT', 'PDTIME(Years)', 'AgePDDX', 'SEX', 'MCATOT']\n",
    "\n",
    "# Ensure necessary columns are present\n",
    "assert all(var in OurPDDataforPM_W_MatV_Only_nandropped.columns for var in matching_vars), \"Missing columns in OurPDDataforPM\"\n",
    "assert all(var in MOCA_DemoPDDX_UPDRS_W_MatV_Only.columns for var in matching_vars), \"Missing columns in MOCA_DemoPDDX_UPDRS\""
   ]
  },
  {
   "cell_type": "markdown",
   "id": "53cf566e-9fc3-42ab-883f-1059f33133d5",
   "metadata": {},
   "source": [
    "### Start performing Propensity Matching"
   ]
  },
  {
   "cell_type": "markdown",
   "id": "f81c3274-c18a-40e3-9ff7-bbd4e0036494",
   "metadata": {
    "tags": []
   },
   "source": [
    "#### Using Sklearn library (Stephan's code) + minor modifications from myside"
   ]
  },
  {
   "cell_type": "code",
   "execution_count": 58,
   "id": "77cd3c66-c59a-4723-9012-425697310b12",
   "metadata": {},
   "outputs": [
    {
     "name": "stderr",
     "output_type": "stream",
     "text": [
      "c:\\users\\admin\\appdata\\local\\programs\\python\\python36\\lib\\site-packages\\ipykernel_launcher.py:8: SettingWithCopyWarning: \n",
      "A value is trying to be set on a copy of a slice from a DataFrame.\n",
      "Try using .loc[row_indexer,col_indexer] = value instead\n",
      "\n",
      "See the caveats in the documentation: https://pandas.pydata.org/pandas-docs/stable/user_guide/indexing.html#returning-a-view-versus-a-copy\n",
      "  \n",
      "c:\\users\\admin\\appdata\\local\\programs\\python\\python36\\lib\\site-packages\\ipykernel_launcher.py:9: SettingWithCopyWarning: \n",
      "A value is trying to be set on a copy of a slice from a DataFrame.\n",
      "Try using .loc[row_indexer,col_indexer] = value instead\n",
      "\n",
      "See the caveats in the documentation: https://pandas.pydata.org/pandas-docs/stable/user_guide/indexing.html#returning-a-view-versus-a-copy\n",
      "  if __name__ == '__main__':\n",
      "c:\\users\\admin\\appdata\\local\\programs\\python\\python36\\lib\\site-packages\\ipykernel_launcher.py:12: SettingWithCopyWarning: \n",
      "A value is trying to be set on a copy of a slice from a DataFrame.\n",
      "Try using .loc[row_indexer,col_indexer] = value instead\n",
      "\n",
      "See the caveats in the documentation: https://pandas.pydata.org/pandas-docs/stable/user_guide/indexing.html#returning-a-view-versus-a-copy\n",
      "  if sys.path[0] == '':\n",
      "c:\\users\\admin\\appdata\\local\\programs\\python\\python36\\lib\\site-packages\\ipykernel_launcher.py:13: SettingWithCopyWarning: \n",
      "A value is trying to be set on a copy of a slice from a DataFrame.\n",
      "Try using .loc[row_indexer,col_indexer] = value instead\n",
      "\n",
      "See the caveats in the documentation: https://pandas.pydata.org/pandas-docs/stable/user_guide/indexing.html#returning-a-view-versus-a-copy\n",
      "  del sys.path[0]\n",
      "c:\\users\\admin\\appdata\\local\\programs\\python\\python36\\lib\\site-packages\\ipykernel_launcher.py:17: SettingWithCopyWarning: \n",
      "A value is trying to be set on a copy of a slice from a DataFrame.\n",
      "Try using .loc[row_indexer,col_indexer] = value instead\n",
      "\n",
      "See the caveats in the documentation: https://pandas.pydata.org/pandas-docs/stable/user_guide/indexing.html#returning-a-view-versus-a-copy\n",
      "c:\\users\\admin\\appdata\\local\\programs\\python\\python36\\lib\\site-packages\\ipykernel_launcher.py:18: SettingWithCopyWarning: \n",
      "A value is trying to be set on a copy of a slice from a DataFrame.\n",
      "Try using .loc[row_indexer,col_indexer] = value instead\n",
      "\n",
      "See the caveats in the documentation: https://pandas.pydata.org/pandas-docs/stable/user_guide/indexing.html#returning-a-view-versus-a-copy\n"
     ]
    }
   ],
   "source": [
    "from sklearn.linear_model import LogisticRegression\n",
    "from sklearn.neighbors import NearestNeighbors\n",
    "from sklearn.preprocessing import StandardScaler, LabelEncoder\n",
    "\n",
    "continuous_vars = [var for var in matching_vars if var != 'SEX']\n",
    "# Ensure continuous variables are numeric\n",
    "for var in continuous_vars:\n",
    "    OurPDDataforPM_W_MatV_Only_nandropped[var] = pd.to_numeric(OurPDDataforPM_W_MatV_Only_nandropped[var], errors='coerce')\n",
    "    MOCA_DemoPDDX_UPDRS_W_MatV_Only[var] = pd.to_numeric(MOCA_DemoPDDX_UPDRS_W_MatV_Only[var], errors='coerce')\n",
    "\n",
    "# Combine the datasets and create a label column\n",
    "OurPDDataforPM_W_MatV_Only_nandropped['Label'] = 1  # Treatment  \n",
    "MOCA_DemoPDDX_UPDRS_W_MatV_Only['Label'] = 0  # Control\n",
    "\n",
    "# Encode categorical variables if needed\n",
    "le = LabelEncoder()\n",
    "OurPDDataforPM_W_MatV_Only_nandropped['SEX'] = le.fit_transform(OurPDDataforPM_W_MatV_Only_nandropped['SEX'])\n",
    "MOCA_DemoPDDX_UPDRS_W_MatV_Only['SEX'] = le.transform(MOCA_DemoPDDX_UPDRS_W_MatV_Only['SEX'])\n",
    "\n",
    "df_combined = pd.concat([OurPDDataforPM_W_MatV_Only_nandropped, MOCA_DemoPDDX_UPDRS_W_MatV_Only])"
   ]
  },
  {
   "cell_type": "code",
   "execution_count": null,
   "id": "fac9a1e3-f632-4d71-b932-3fc7467f2032",
   "metadata": {},
   "outputs": [],
   "source": [
    "# Save MOCA_DemoPDDX_UPDRS_W_MatV_Only as a CSV file\n",
    "MOCA_DemoPDDX_UPDRS_W_MatV_Only.to_csv('MOCA_DemoPDDX_UPDRS_W_MatV_Only.csv', index=False)\n",
    "\n",
    "# Save OurPDDataforPM_W_MatV_Only_nandropped as a CSV file\n",
    "OurPDDataforPM_W_MatV_Only_nandropped.to_csv('OurPDDataforPM_W_MatV_Only_nandropped.csv', index=False)"
   ]
  },
  {
   "cell_type": "code",
   "execution_count": 59,
   "id": "443a826a-34b4-4215-af1e-04860e48eb64",
   "metadata": {},
   "outputs": [
    {
     "data": {
      "text/html": [
       "<div>\n",
       "<style scoped>\n",
       "    .dataframe tbody tr th:only-of-type {\n",
       "        vertical-align: middle;\n",
       "    }\n",
       "\n",
       "    .dataframe tbody tr th {\n",
       "        vertical-align: top;\n",
       "    }\n",
       "\n",
       "    .dataframe thead th {\n",
       "        text-align: right;\n",
       "    }\n",
       "</style>\n",
       "<table border=\"1\" class=\"dataframe\">\n",
       "  <thead>\n",
       "    <tr style=\"text-align: right;\">\n",
       "      <th></th>\n",
       "      <th>MCATOT</th>\n",
       "      <th>NP3TOT</th>\n",
       "      <th>PDTIME(Years)</th>\n",
       "      <th>AgePDDX</th>\n",
       "      <th>SEX</th>\n",
       "      <th>Label</th>\n",
       "    </tr>\n",
       "  </thead>\n",
       "  <tbody>\n",
       "    <tr>\n",
       "      <th>341</th>\n",
       "      <td>28.0</td>\n",
       "      <td>28.0</td>\n",
       "      <td>5.144422</td>\n",
       "      <td>45.418207</td>\n",
       "      <td>1</td>\n",
       "      <td>1</td>\n",
       "    </tr>\n",
       "    <tr>\n",
       "      <th>348</th>\n",
       "      <td>28.0</td>\n",
       "      <td>70.0</td>\n",
       "      <td>7.192334</td>\n",
       "      <td>61.664613</td>\n",
       "      <td>1</td>\n",
       "      <td>1</td>\n",
       "    </tr>\n",
       "    <tr>\n",
       "      <th>356</th>\n",
       "      <td>29.0</td>\n",
       "      <td>57.0</td>\n",
       "      <td>7.260780</td>\n",
       "      <td>54.151951</td>\n",
       "      <td>1</td>\n",
       "      <td>1</td>\n",
       "    </tr>\n",
       "    <tr>\n",
       "      <th>370</th>\n",
       "      <td>27.0</td>\n",
       "      <td>31.0</td>\n",
       "      <td>10.299795</td>\n",
       "      <td>62.967830</td>\n",
       "      <td>1</td>\n",
       "      <td>1</td>\n",
       "    </tr>\n",
       "    <tr>\n",
       "      <th>376</th>\n",
       "      <td>28.0</td>\n",
       "      <td>30.0</td>\n",
       "      <td>11.375770</td>\n",
       "      <td>47.222450</td>\n",
       "      <td>1</td>\n",
       "      <td>1</td>\n",
       "    </tr>\n",
       "  </tbody>\n",
       "</table>\n",
       "</div>"
      ],
      "text/plain": [
       "     MCATOT  NP3TOT  PDTIME(Years)    AgePDDX  SEX  Label\n",
       "341    28.0    28.0       5.144422  45.418207    1      1\n",
       "348    28.0    70.0       7.192334  61.664613    1      1\n",
       "356    29.0    57.0       7.260780  54.151951    1      1\n",
       "370    27.0    31.0      10.299795  62.967830    1      1\n",
       "376    28.0    30.0      11.375770  47.222450    1      1"
      ]
     },
     "execution_count": 59,
     "metadata": {},
     "output_type": "execute_result"
    }
   ],
   "source": [
    "df_combined.head()"
   ]
  },
  {
   "cell_type": "code",
   "execution_count": 60,
   "id": "036355cd-1153-46f3-b41d-1f360e3c2021",
   "metadata": {},
   "outputs": [],
   "source": [
    "# Standardize the continuous variables (age, UPDRS III, etc.)\n",
    "scaler = StandardScaler()\n",
    "df_combined[matching_vars[:-2]] = scaler.fit_transform(df_combined[matching_vars[:-2]])\n",
    "\n",
    "# Logistic regression model to compute propensity scores\n",
    "model = LogisticRegression()\n",
    "df_combined['propensity_score'] = model.fit(df_combined[matching_vars], df_combined['Label']).predict_proba(df_combined[matching_vars])[:, 1]\n",
    "\n",
    "# Nearest Neighbor Matching\n",
    "nn = NearestNeighbors(n_neighbors=1)\n",
    "df1_matched_indices = nn.fit(df_combined[df_combined['Label'] == 1]['propensity_score'].values.reshape(-1, 1)).kneighbors(df_combined[df_combined['Label'] == 0]['propensity_score'].values.reshape(-1, 1), return_distance=False).flatten()\n",
    "\n",
    "# Get matched data\n",
    "matched_df2 = df_combined[df_combined['Label'] == 1].iloc[df1_matched_indices]\n",
    "matched_df1 = df_combined[df_combined['Label'] == 0]\n",
    "\n",
    "# Combine the matched data\n",
    "matched_data = pd.concat([matched_df1, matched_df2])"
   ]
  },
  {
   "cell_type": "code",
   "execution_count": 61,
   "id": "8910b558-4ef2-45f1-a752-0cfc108f6deb",
   "metadata": {},
   "outputs": [
    {
     "data": {
      "text/html": [
       "<div>\n",
       "<style scoped>\n",
       "    .dataframe tbody tr th:only-of-type {\n",
       "        vertical-align: middle;\n",
       "    }\n",
       "\n",
       "    .dataframe tbody tr th {\n",
       "        vertical-align: top;\n",
       "    }\n",
       "\n",
       "    .dataframe thead th {\n",
       "        text-align: right;\n",
       "    }\n",
       "</style>\n",
       "<table border=\"1\" class=\"dataframe\">\n",
       "  <thead>\n",
       "    <tr style=\"text-align: right;\">\n",
       "      <th></th>\n",
       "      <th>MCATOT</th>\n",
       "      <th>NP3TOT</th>\n",
       "      <th>PDTIME(Years)</th>\n",
       "      <th>AgePDDX</th>\n",
       "      <th>SEX</th>\n",
       "      <th>Label</th>\n",
       "      <th>propensity_score</th>\n",
       "    </tr>\n",
       "  </thead>\n",
       "  <tbody>\n",
       "    <tr>\n",
       "      <th>0</th>\n",
       "      <td>29.0</td>\n",
       "      <td>-0.946150</td>\n",
       "      <td>-0.338263</td>\n",
       "      <td>0.344865</td>\n",
       "      <td>1</td>\n",
       "      <td>0</td>\n",
       "      <td>0.003128</td>\n",
       "    </tr>\n",
       "    <tr>\n",
       "      <th>1</th>\n",
       "      <td>29.0</td>\n",
       "      <td>-0.517525</td>\n",
       "      <td>-0.281667</td>\n",
       "      <td>0.544148</td>\n",
       "      <td>0</td>\n",
       "      <td>0</td>\n",
       "      <td>0.002460</td>\n",
       "    </tr>\n",
       "    <tr>\n",
       "      <th>2</th>\n",
       "      <td>25.0</td>\n",
       "      <td>0.511175</td>\n",
       "      <td>0.071336</td>\n",
       "      <td>-0.651549</td>\n",
       "      <td>0</td>\n",
       "      <td>0</td>\n",
       "      <td>0.004215</td>\n",
       "    </tr>\n",
       "    <tr>\n",
       "      <th>3</th>\n",
       "      <td>27.0</td>\n",
       "      <td>-0.088900</td>\n",
       "      <td>-0.513806</td>\n",
       "      <td>-0.352624</td>\n",
       "      <td>0</td>\n",
       "      <td>0</td>\n",
       "      <td>0.001138</td>\n",
       "    </tr>\n",
       "    <tr>\n",
       "      <th>4</th>\n",
       "      <td>26.0</td>\n",
       "      <td>-0.346075</td>\n",
       "      <td>-0.543543</td>\n",
       "      <td>-1.448680</td>\n",
       "      <td>1</td>\n",
       "      <td>0</td>\n",
       "      <td>0.001115</td>\n",
       "    </tr>\n",
       "    <tr>\n",
       "      <th>5</th>\n",
       "      <td>27.0</td>\n",
       "      <td>-0.260350</td>\n",
       "      <td>-0.570402</td>\n",
       "      <td>-0.252983</td>\n",
       "      <td>1</td>\n",
       "      <td>0</td>\n",
       "      <td>0.002010</td>\n",
       "    </tr>\n",
       "    <tr>\n",
       "      <th>6</th>\n",
       "      <td>25.0</td>\n",
       "      <td>1.111249</td>\n",
       "      <td>-0.571361</td>\n",
       "      <td>0.643790</td>\n",
       "      <td>1</td>\n",
       "      <td>0</td>\n",
       "      <td>0.006290</td>\n",
       "    </tr>\n",
       "    <tr>\n",
       "      <th>7</th>\n",
       "      <td>23.0</td>\n",
       "      <td>-0.346075</td>\n",
       "      <td>-0.601098</td>\n",
       "      <td>-0.053700</td>\n",
       "      <td>0</td>\n",
       "      <td>0</td>\n",
       "      <td>0.000378</td>\n",
       "    </tr>\n",
       "    <tr>\n",
       "      <th>8</th>\n",
       "      <td>28.0</td>\n",
       "      <td>-0.260350</td>\n",
       "      <td>-0.571361</td>\n",
       "      <td>1.241638</td>\n",
       "      <td>0</td>\n",
       "      <td>0</td>\n",
       "      <td>0.001723</td>\n",
       "    </tr>\n",
       "    <tr>\n",
       "      <th>9</th>\n",
       "      <td>29.0</td>\n",
       "      <td>-0.946150</td>\n",
       "      <td>-0.601098</td>\n",
       "      <td>0.245224</td>\n",
       "      <td>0</td>\n",
       "      <td>0</td>\n",
       "      <td>0.000768</td>\n",
       "    </tr>\n",
       "    <tr>\n",
       "      <th>10</th>\n",
       "      <td>29.0</td>\n",
       "      <td>0.596900</td>\n",
       "      <td>-0.395818</td>\n",
       "      <td>0.942714</td>\n",
       "      <td>0</td>\n",
       "      <td>0</td>\n",
       "      <td>0.006029</td>\n",
       "    </tr>\n",
       "    <tr>\n",
       "      <th>11</th>\n",
       "      <td>29.0</td>\n",
       "      <td>-0.946150</td>\n",
       "      <td>-0.542583</td>\n",
       "      <td>-0.850831</td>\n",
       "      <td>1</td>\n",
       "      <td>0</td>\n",
       "      <td>0.001393</td>\n",
       "    </tr>\n",
       "    <tr>\n",
       "      <th>12</th>\n",
       "      <td>25.0</td>\n",
       "      <td>-0.003175</td>\n",
       "      <td>-0.337304</td>\n",
       "      <td>0.743431</td>\n",
       "      <td>1</td>\n",
       "      <td>0</td>\n",
       "      <td>0.003870</td>\n",
       "    </tr>\n",
       "    <tr>\n",
       "      <th>13</th>\n",
       "      <td>27.0</td>\n",
       "      <td>0.768350</td>\n",
       "      <td>-0.631793</td>\n",
       "      <td>1.440921</td>\n",
       "      <td>1</td>\n",
       "      <td>0</td>\n",
       "      <td>0.007643</td>\n",
       "    </tr>\n",
       "    <tr>\n",
       "      <th>14</th>\n",
       "      <td>26.0</td>\n",
       "      <td>-0.088900</td>\n",
       "      <td>-0.453373</td>\n",
       "      <td>1.042355</td>\n",
       "      <td>1</td>\n",
       "      <td>0</td>\n",
       "      <td>0.003727</td>\n",
       "    </tr>\n",
       "    <tr>\n",
       "      <th>15</th>\n",
       "      <td>27.0</td>\n",
       "      <td>-0.431800</td>\n",
       "      <td>-0.338263</td>\n",
       "      <td>0.444507</td>\n",
       "      <td>0</td>\n",
       "      <td>0</td>\n",
       "      <td>0.001552</td>\n",
       "    </tr>\n",
       "    <tr>\n",
       "      <th>16</th>\n",
       "      <td>28.0</td>\n",
       "      <td>-0.774700</td>\n",
       "      <td>-0.453373</td>\n",
       "      <td>1.241638</td>\n",
       "      <td>1</td>\n",
       "      <td>0</td>\n",
       "      <td>0.003127</td>\n",
       "    </tr>\n",
       "    <tr>\n",
       "      <th>17</th>\n",
       "      <td>23.0</td>\n",
       "      <td>-0.946150</td>\n",
       "      <td>-0.278790</td>\n",
       "      <td>-0.651549</td>\n",
       "      <td>1</td>\n",
       "      <td>0</td>\n",
       "      <td>0.000813</td>\n",
       "    </tr>\n",
       "    <tr>\n",
       "      <th>18</th>\n",
       "      <td>27.0</td>\n",
       "      <td>0.511175</td>\n",
       "      <td>-0.511887</td>\n",
       "      <td>1.839486</td>\n",
       "      <td>1</td>\n",
       "      <td>0</td>\n",
       "      <td>0.008831</td>\n",
       "    </tr>\n",
       "    <tr>\n",
       "      <th>19</th>\n",
       "      <td>25.0</td>\n",
       "      <td>-0.088900</td>\n",
       "      <td>-0.220275</td>\n",
       "      <td>2.038769</td>\n",
       "      <td>1</td>\n",
       "      <td>0</td>\n",
       "      <td>0.006876</td>\n",
       "    </tr>\n",
       "  </tbody>\n",
       "</table>\n",
       "</div>"
      ],
      "text/plain": [
       "    MCATOT    NP3TOT  PDTIME(Years)   AgePDDX  SEX  Label  propensity_score\n",
       "0     29.0 -0.946150      -0.338263  0.344865    1      0          0.003128\n",
       "1     29.0 -0.517525      -0.281667  0.544148    0      0          0.002460\n",
       "2     25.0  0.511175       0.071336 -0.651549    0      0          0.004215\n",
       "3     27.0 -0.088900      -0.513806 -0.352624    0      0          0.001138\n",
       "4     26.0 -0.346075      -0.543543 -1.448680    1      0          0.001115\n",
       "5     27.0 -0.260350      -0.570402 -0.252983    1      0          0.002010\n",
       "6     25.0  1.111249      -0.571361  0.643790    1      0          0.006290\n",
       "7     23.0 -0.346075      -0.601098 -0.053700    0      0          0.000378\n",
       "8     28.0 -0.260350      -0.571361  1.241638    0      0          0.001723\n",
       "9     29.0 -0.946150      -0.601098  0.245224    0      0          0.000768\n",
       "10    29.0  0.596900      -0.395818  0.942714    0      0          0.006029\n",
       "11    29.0 -0.946150      -0.542583 -0.850831    1      0          0.001393\n",
       "12    25.0 -0.003175      -0.337304  0.743431    1      0          0.003870\n",
       "13    27.0  0.768350      -0.631793  1.440921    1      0          0.007643\n",
       "14    26.0 -0.088900      -0.453373  1.042355    1      0          0.003727\n",
       "15    27.0 -0.431800      -0.338263  0.444507    0      0          0.001552\n",
       "16    28.0 -0.774700      -0.453373  1.241638    1      0          0.003127\n",
       "17    23.0 -0.946150      -0.278790 -0.651549    1      0          0.000813\n",
       "18    27.0  0.511175      -0.511887  1.839486    1      0          0.008831\n",
       "19    25.0 -0.088900      -0.220275  2.038769    1      0          0.006876"
      ]
     },
     "execution_count": 61,
     "metadata": {},
     "output_type": "execute_result"
    }
   ],
   "source": [
    "matched_data.head(20)"
   ]
  },
  {
   "cell_type": "code",
   "execution_count": 62,
   "id": "47f8441e-29ab-4adc-86cb-a634a8d5cc66",
   "metadata": {},
   "outputs": [
    {
     "data": {
      "text/plain": [
       "(2068, 7)"
      ]
     },
     "execution_count": 62,
     "metadata": {},
     "output_type": "execute_result"
    }
   ],
   "source": [
    "matched_data.shape"
   ]
  },
  {
   "cell_type": "markdown",
   "id": "6e88e2f3-3117-4ab4-8995-3df0a0b57de2",
   "metadata": {},
   "source": [
    "### Evaluate Matched Data"
   ]
  },
  {
   "cell_type": "code",
   "execution_count": 63,
   "id": "27ff3530-47d1-4489-a91d-685356ff487f",
   "metadata": {},
   "outputs": [
    {
     "name": "stdout",
     "output_type": "stream",
     "text": [
      "Mean differences before matching:\n",
      "NP3TOT           1.700135\n",
      "PDTIME(Years)    2.974388\n",
      "AgePDDX         -0.579764\n",
      "MCATOT           0.507061\n",
      "dtype: float64\n",
      "Mean differences after matching:\n",
      "NP3TOT          -0.752042\n",
      "PDTIME(Years)    0.680503\n",
      "AgePDDX         -0.853976\n",
      "MCATOT          -3.157640\n",
      "dtype: float64\n"
     ]
    }
   ],
   "source": [
    "# Mean of continuous variables before matching\n",
    "means_before = df_combined[df_combined['Label'] == 1][continuous_vars].mean() - df_combined[df_combined['Label'] == 0][continuous_vars].mean()\n",
    "\n",
    "print(\"Mean differences before matching:\")\n",
    "print(means_before)\n",
    "\n",
    "# Matched data\n",
    "matched_data = pd.concat([matched_df1, matched_df2])\n",
    "\n",
    "# Mean of continuous variables after matching\n",
    "means_after = matched_data[matched_data['Label'] == 1][continuous_vars].mean() - matched_data[matched_data['Label'] == 0][continuous_vars].mean()\n",
    "\n",
    "print(\"Mean differences after matching:\")\n",
    "print(means_after)\n"
   ]
  },
  {
   "cell_type": "code",
   "execution_count": 64,
   "id": "99a3f3d8-d352-41e2-ab00-eefe89c40d2e",
   "metadata": {},
   "outputs": [
    {
     "name": "stdout",
     "output_type": "stream",
     "text": [
      "Standardized Mean Differences after Matching:\n",
      "NP3TOT          -0.882683\n",
      "PDTIME(Years)    1.233220\n",
      "AgePDDX         -1.058886\n",
      "MCATOT          -1.442498\n",
      "dtype: float64\n"
     ]
    }
   ],
   "source": [
    "def standardized_mean_difference(df, treatment_label, control_label, covariates):\n",
    "    treatment = df[df['Label'] == treatment_label][covariates]\n",
    "    control = df[df['Label'] == control_label][covariates]\n",
    "    \n",
    "    mean_treatment = treatment.mean()\n",
    "    mean_control = control.mean()\n",
    "    \n",
    "    std_treatment = treatment.std()\n",
    "    std_control = control.std()\n",
    "    \n",
    "    standardized_diff = (mean_treatment - mean_control) / ((std_treatment + std_control) / 2)\n",
    "    \n",
    "    return standardized_diff\n",
    "\n",
    "# Calculate standardized mean differences for matched data\n",
    "std_mean_diff = standardized_mean_difference(matched_data, treatment_label=1, control_label=0, covariates=continuous_vars)\n",
    "print(\"Standardized Mean Differences after Matching:\")\n",
    "print(std_mean_diff)"
   ]
  },
  {
   "cell_type": "markdown",
   "id": "034d5f32-3304-4d92-b27c-a0511d307eca",
   "metadata": {},
   "source": [
    "#### Using pymatch library  (Python package designed for propensity score matching)"
   ]
  },
  {
   "cell_type": "code",
   "execution_count": 65,
   "id": "cbcd5fde-baa5-488f-805c-bb2e10eb2c42",
   "metadata": {},
   "outputs": [
    {
     "name": "stderr",
     "output_type": "stream",
     "text": [
      "WARNING: Ignoring invalid distribution -yping-extensions (c:\\users\\admin\\appdata\\local\\programs\\python\\python36\\lib\\site-packages)\n",
      "WARNING: Ignoring invalid distribution -yping-extensions (c:\\users\\admin\\appdata\\local\\programs\\python\\python36\\lib\\site-packages)\n",
      "WARNING: Ignoring invalid distribution -yping-extensions (c:\\users\\admin\\appdata\\local\\programs\\python\\python36\\lib\\site-packages)\n",
      "WARNING: Ignoring invalid distribution -yping-extensions (c:\\users\\admin\\appdata\\local\\programs\\python\\python36\\lib\\site-packages)\n",
      "WARNING: Ignoring invalid distribution -yping-extensions (c:\\users\\admin\\appdata\\local\\programs\\python\\python36\\lib\\site-packages)\n"
     ]
    }
   ],
   "source": [
    "!pip install pymatch --quiet"
   ]
  },
  {
   "cell_type": "code",
   "execution_count": null,
   "id": "df37a8d9-e98b-4824-849d-595079568277",
   "metadata": {},
   "outputs": [],
   "source": []
  },
  {
   "cell_type": "code",
   "execution_count": null,
   "id": "3f93d8f7-8375-4122-96b3-232d6e73d0f4",
   "metadata": {},
   "outputs": [],
   "source": []
  },
  {
   "cell_type": "code",
   "execution_count": null,
   "id": "64bcd441-eee3-4691-977e-13cb778418ec",
   "metadata": {},
   "outputs": [],
   "source": []
  },
  {
   "cell_type": "code",
   "execution_count": null,
   "id": "9b2e4901-9a17-4790-bc74-389402766c65",
   "metadata": {},
   "outputs": [],
   "source": []
  },
  {
   "cell_type": "code",
   "execution_count": null,
   "id": "b5bf6731-5d9c-48f6-8e88-414e837b1a79",
   "metadata": {},
   "outputs": [],
   "source": [
    "from sklearn.preprocessing import StandardScaler, LabelEncoder\n",
    "\n",
    "# Define continuous and categorical variables\n",
    "continuous_vars = ['MCATOT', 'NP3TOT', 'PDTIME(Years)', 'AgePDDX']\n",
    "categorical_vars = ['SEX']\n",
    "\n",
    "# Ensure continuous variables are numeric\n",
    "for var in continuous_vars:\n",
    "    OurPDDataforPM[var] = pd.to_numeric(OurPDDataforPM[var], errors='coerce')\n",
    "    MOCA_DemoPDDX_UPDRS[var] = pd.to_numeric(MOCA_DemoPDDX_UPDRS[var], errors='coerce')\n",
    "\n",
    "# Encode categorical variables if needed\n",
    "le = LabelEncoder()\n",
    "OurPDDataforPM['SEX'] = le.fit_transform(OurPDDataforPM['SEX'])\n",
    "MOCA_DemoPDDX_UPDRS['SEX'] = le.transform(MOCA_DemoPDDX_UPDRS['SEX'])\n",
    "\n",
    "# Combine datasets for standardization\n",
    "combined_data = pd.concat([OurPDDataforPM[continuous_vars], MOCA_DemoPDDX_UPDRS[continuous_vars]], axis=0)\n",
    "\n",
    "# Initialize and apply the StandardScaler\n",
    "scaler = StandardScaler()\n",
    "combined_data[continuous_vars] = scaler.fit_transform(combined_data[continuous_vars])\n",
    "\n",
    "# Split combined data back into original datasets\n",
    "OurPDDataforPM[continuous_vars] = combined_data.iloc[:len(OurPDDataforPM)]\n",
    "MOCA_DemoPDDX_UPDRS[continuous_vars] = combined_data.iloc[len(OurPDDataforPM):]"
   ]
  },
  {
   "cell_type": "code",
   "execution_count": null,
   "id": "a06ee6f2-22c4-49e5-95cf-195fc5d00eba",
   "metadata": {},
   "outputs": [],
   "source": [
    "OurPDDataforPM.head()"
   ]
  },
  {
   "cell_type": "code",
   "execution_count": null,
   "id": "64c60f9b-12f7-49aa-ad23-9523fa96a23a",
   "metadata": {},
   "outputs": [],
   "source": [
    "MOCA_DemoPDDX_UPDRS.head()"
   ]
  },
  {
   "cell_type": "code",
   "execution_count": null,
   "id": "f8465e27-a6ad-4eb1-add5-4d86440a79c9",
   "metadata": {},
   "outputs": [],
   "source": [
    "# Combine the datasets and create a label column\n",
    "OurPDDataforPM['label'] = 1  # Treatment  \n",
    "MOCA_DemoPDDX_UPDRS['label'] = 0  # Control"
   ]
  },
  {
   "cell_type": "code",
   "execution_count": null,
   "id": "9558641b-3666-47c3-93f1-d528dd8ce91a",
   "metadata": {},
   "outputs": [],
   "source": []
  }
 ],
 "metadata": {
  "kernelspec": {
   "display_name": "Python 3",
   "language": "python",
   "name": "python3"
  },
  "language_info": {
   "codemirror_mode": {
    "name": "ipython",
    "version": 3
   },
   "file_extension": ".py",
   "mimetype": "text/x-python",
   "name": "python",
   "nbconvert_exporter": "python",
   "pygments_lexer": "ipython3",
   "version": "3.6.8"
  }
 },
 "nbformat": 4,
 "nbformat_minor": 5
}
